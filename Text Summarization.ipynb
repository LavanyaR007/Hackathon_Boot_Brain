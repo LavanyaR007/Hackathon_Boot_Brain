{
 "cells": [
  {
   "cell_type": "markdown",
   "id": "c7b4dcac-d338-437c-b1bc-33346ba57caf",
   "metadata": {},
   "source": [
    "Text cleaning\n",
    "\n",
    "Sentence Tokenization\n",
    "\n",
    "Word tokenization\n",
    "\n",
    "Word-frequency table\n",
    "\n",
    "Summarization"
   ]
  },
  {
   "cell_type": "code",
   "execution_count": 28,
   "id": "e8be9062-b46f-4267-a991-ec14725b432f",
   "metadata": {},
   "outputs": [
    {
     "name": "stdout",
     "output_type": "stream",
     "text": [
      "Defaulting to user installation because normal site-packages is not writeable\n",
      "Collecting en-core-web-sm==3.6.0\n",
      "  Downloading https://github.com/explosion/spacy-models/releases/download/en_core_web_sm-3.6.0/en_core_web_sm-3.6.0-py3-none-any.whl (12.8 MB)\n",
      "\u001b[2K     \u001b[90m━━━━━━━━━━━━━━━━━━━━━━━━━━━━━━━━━━━━━━━━\u001b[0m \u001b[32m12.8/12.8 MB\u001b[0m \u001b[31m31.0 MB/s\u001b[0m eta \u001b[36m0:00:00\u001b[0m00:01\u001b[0m00:01\u001b[0m\n",
      "\u001b[?25hRequirement already satisfied: spacy<3.7.0,>=3.6.0 in ./.local/lib/python3.10/site-packages (from en-core-web-sm==3.6.0) (3.6.1)\n",
      "Requirement already satisfied: langcodes<4.0.0,>=3.2.0 in ./.local/lib/python3.10/site-packages (from spacy<3.7.0,>=3.6.0->en-core-web-sm==3.6.0) (3.3.0)\n",
      "Requirement already satisfied: murmurhash<1.1.0,>=0.28.0 in ./.local/lib/python3.10/site-packages (from spacy<3.7.0,>=3.6.0->en-core-web-sm==3.6.0) (1.0.9)\n",
      "Requirement already satisfied: typer<0.10.0,>=0.3.0 in ./.local/lib/python3.10/site-packages (from spacy<3.7.0,>=3.6.0->en-core-web-sm==3.6.0) (0.9.0)\n",
      "Requirement already satisfied: numpy>=1.15.0 in /home/common/miniconda3/envs/openvino/lib/python3.10/site-packages (from spacy<3.7.0,>=3.6.0->en-core-web-sm==3.6.0) (1.24.3)\n",
      "Requirement already satisfied: setuptools in /home/common/miniconda3/envs/openvino/lib/python3.10/site-packages (from spacy<3.7.0,>=3.6.0->en-core-web-sm==3.6.0) (67.8.0)\n",
      "Requirement already satisfied: wasabi<1.2.0,>=0.9.1 in ./.local/lib/python3.10/site-packages (from spacy<3.7.0,>=3.6.0->en-core-web-sm==3.6.0) (1.1.2)\n",
      "Requirement already satisfied: spacy-loggers<2.0.0,>=1.0.0 in ./.local/lib/python3.10/site-packages (from spacy<3.7.0,>=3.6.0->en-core-web-sm==3.6.0) (1.0.4)\n",
      "Requirement already satisfied: spacy-legacy<3.1.0,>=3.0.11 in ./.local/lib/python3.10/site-packages (from spacy<3.7.0,>=3.6.0->en-core-web-sm==3.6.0) (3.0.12)\n",
      "Requirement already satisfied: catalogue<2.1.0,>=2.0.6 in ./.local/lib/python3.10/site-packages (from spacy<3.7.0,>=3.6.0->en-core-web-sm==3.6.0) (2.0.9)\n",
      "Requirement already satisfied: packaging>=20.0 in /home/common/miniconda3/envs/openvino/lib/python3.10/site-packages (from spacy<3.7.0,>=3.6.0->en-core-web-sm==3.6.0) (23.1)\n",
      "Requirement already satisfied: smart-open<7.0.0,>=5.2.1 in ./.local/lib/python3.10/site-packages (from spacy<3.7.0,>=3.6.0->en-core-web-sm==3.6.0) (6.3.0)\n",
      "Requirement already satisfied: thinc<8.2.0,>=8.1.8 in ./.local/lib/python3.10/site-packages (from spacy<3.7.0,>=3.6.0->en-core-web-sm==3.6.0) (8.1.11)\n",
      "Requirement already satisfied: pydantic!=1.8,!=1.8.1,<3.0.0,>=1.7.4 in ./.local/lib/python3.10/site-packages (from spacy<3.7.0,>=3.6.0->en-core-web-sm==3.6.0) (2.1.1)\n",
      "Requirement already satisfied: pathy>=0.10.0 in ./.local/lib/python3.10/site-packages (from spacy<3.7.0,>=3.6.0->en-core-web-sm==3.6.0) (0.10.2)\n",
      "Requirement already satisfied: cymem<2.1.0,>=2.0.2 in ./.local/lib/python3.10/site-packages (from spacy<3.7.0,>=3.6.0->en-core-web-sm==3.6.0) (2.0.7)\n",
      "Requirement already satisfied: srsly<3.0.0,>=2.4.3 in ./.local/lib/python3.10/site-packages (from spacy<3.7.0,>=3.6.0->en-core-web-sm==3.6.0) (2.4.7)\n",
      "Requirement already satisfied: preshed<3.1.0,>=3.0.2 in ./.local/lib/python3.10/site-packages (from spacy<3.7.0,>=3.6.0->en-core-web-sm==3.6.0) (3.0.8)\n",
      "Requirement already satisfied: tqdm<5.0.0,>=4.38.0 in /home/common/miniconda3/envs/openvino/lib/python3.10/site-packages (from spacy<3.7.0,>=3.6.0->en-core-web-sm==3.6.0) (4.65.0)\n",
      "Requirement already satisfied: jinja2 in /home/common/miniconda3/envs/openvino/lib/python3.10/site-packages (from spacy<3.7.0,>=3.6.0->en-core-web-sm==3.6.0) (3.1.2)\n",
      "Requirement already satisfied: requests<3.0.0,>=2.13.0 in /home/common/miniconda3/envs/openvino/lib/python3.10/site-packages (from spacy<3.7.0,>=3.6.0->en-core-web-sm==3.6.0) (2.31.0)\n",
      "Requirement already satisfied: typing-extensions>=4.6.1 in /home/common/miniconda3/envs/openvino/lib/python3.10/site-packages (from pydantic!=1.8,!=1.8.1,<3.0.0,>=1.7.4->spacy<3.7.0,>=3.6.0->en-core-web-sm==3.6.0) (4.6.3)\n",
      "Requirement already satisfied: annotated-types>=0.4.0 in ./.local/lib/python3.10/site-packages (from pydantic!=1.8,!=1.8.1,<3.0.0,>=1.7.4->spacy<3.7.0,>=3.6.0->en-core-web-sm==3.6.0) (0.5.0)\n",
      "Requirement already satisfied: pydantic-core==2.4.0 in ./.local/lib/python3.10/site-packages (from pydantic!=1.8,!=1.8.1,<3.0.0,>=1.7.4->spacy<3.7.0,>=3.6.0->en-core-web-sm==3.6.0) (2.4.0)\n",
      "Requirement already satisfied: idna<4,>=2.5 in /home/common/miniconda3/envs/openvino/lib/python3.10/site-packages (from requests<3.0.0,>=2.13.0->spacy<3.7.0,>=3.6.0->en-core-web-sm==3.6.0) (3.4)\n",
      "Requirement already satisfied: certifi>=2017.4.17 in /home/common/miniconda3/envs/openvino/lib/python3.10/site-packages (from requests<3.0.0,>=2.13.0->spacy<3.7.0,>=3.6.0->en-core-web-sm==3.6.0) (2023.5.7)\n",
      "Requirement already satisfied: charset-normalizer<4,>=2 in /home/common/miniconda3/envs/openvino/lib/python3.10/site-packages (from requests<3.0.0,>=2.13.0->spacy<3.7.0,>=3.6.0->en-core-web-sm==3.6.0) (3.1.0)\n",
      "Requirement already satisfied: urllib3<3,>=1.21.1 in /home/common/miniconda3/envs/openvino/lib/python3.10/site-packages (from requests<3.0.0,>=2.13.0->spacy<3.7.0,>=3.6.0->en-core-web-sm==3.6.0) (2.0.3)\n",
      "Requirement already satisfied: blis<0.8.0,>=0.7.8 in ./.local/lib/python3.10/site-packages (from thinc<8.2.0,>=8.1.8->spacy<3.7.0,>=3.6.0->en-core-web-sm==3.6.0) (0.7.10)\n",
      "Requirement already satisfied: confection<1.0.0,>=0.0.1 in ./.local/lib/python3.10/site-packages (from thinc<8.2.0,>=8.1.8->spacy<3.7.0,>=3.6.0->en-core-web-sm==3.6.0) (0.1.1)\n",
      "Requirement already satisfied: click<9.0.0,>=7.1.1 in ./.local/lib/python3.10/site-packages (from typer<0.10.0,>=0.3.0->spacy<3.7.0,>=3.6.0->en-core-web-sm==3.6.0) (8.1.6)\n",
      "Requirement already satisfied: MarkupSafe>=2.0 in /home/common/miniconda3/envs/openvino/lib/python3.10/site-packages (from jinja2->spacy<3.7.0,>=3.6.0->en-core-web-sm==3.6.0) (2.1.3)\n",
      "\u001b[38;5;2m✔ Download and installation successful\u001b[0m\n",
      "You can now load the package via spacy.load('en_core_web_sm')\n"
     ]
    }
   ],
   "source": [
    "!python -m spacy download en_core_web_sm"
   ]
  },
  {
   "cell_type": "code",
   "execution_count": 29,
   "id": "989e8d39-dd75-4f84-bcf0-b64be92bd4f7",
   "metadata": {},
   "outputs": [],
   "source": [
    "text = \"\"\"\n",
    "Maria Sharapova has basically no friends as tennis players on the WTA Tour. The Russian player has no problems in openly speaking about it and in a recent interview she said: ‘I don’t really hide any feelings too much.\n",
    "I think everyone knows this is my job here. When I’m on the courts or when I’m on the court playing, I’m a competitor and I want to beat every single person whether they’re in the locker room or across the net.\n",
    "So I’m not the one to strike up a conversation about the weather and know that in the next few minutes I have to go and try to win a tennis match.\n",
    "I’m a pretty competitive girl. I say my hellos, but I’m not sending any players flowers as well. Uhm, I’m not really friendly or close to many players.\n",
    "I have not a lot of friends away from the courts.’ When she said she is not really close to a lot of players, is that something strategic that she is doing? Is it different on the men’s tour than the women’s tour? ‘No, not at all.\n",
    "I think just because you’re in the same sport doesn’t mean that you have to be friends with everyone just because you’re categorized, you’re a tennis player, so you’re going to get along with tennis players.\n",
    "I think every person has different interests. I have friends that have completely different jobs and interests, and I’ve met them in very different parts of my life.\n",
    "I think everyone just thinks because we’re tennis players we should be the greatest of friends. But ultimately tennis is just a very small part of what we do.\n",
    "There are so many other things that we’re interested in, that we do.\"\"\""
   ]
  },
  {
   "cell_type": "code",
   "execution_count": 30,
   "id": "9e0119ea-e796-4c47-b8b5-e1ed5e157b16",
   "metadata": {},
   "outputs": [],
   "source": [
    "import spacy\n",
    "from spacy.lang.en.stop_words import STOP_WORDS\n",
    "from string import punctuation"
   ]
  },
  {
   "cell_type": "markdown",
   "id": "d310705b-b708-4803-a2c0-1bab57a05452",
   "metadata": {},
   "source": [
    "Text Cleaning"
   ]
  },
  {
   "cell_type": "code",
   "execution_count": 31,
   "id": "a2d22689-33b8-43b9-9df3-3fac937a0962",
   "metadata": {},
   "outputs": [],
   "source": [
    "stopwords = list(STOP_WORDS)"
   ]
  },
  {
   "cell_type": "code",
   "execution_count": 32,
   "id": "16dad015-fe18-40d3-878f-ce63e27e0ebc",
   "metadata": {},
   "outputs": [],
   "source": [
    "nlp = spacy.load('en_core_web_sm')"
   ]
  },
  {
   "cell_type": "code",
   "execution_count": 33,
   "id": "29d96c51-6433-4b94-9d7b-f1bdcf99c092",
   "metadata": {},
   "outputs": [],
   "source": [
    "doc = nlp(text)"
   ]
  },
  {
   "cell_type": "markdown",
   "id": "b4704654-07d8-47fc-aa24-fe05191b173f",
   "metadata": {},
   "source": [
    "Word Tokenization"
   ]
  },
  {
   "cell_type": "code",
   "execution_count": 34,
   "id": "11332476-bd88-4b95-8b3d-b4cb51b74519",
   "metadata": {},
   "outputs": [
    {
     "name": "stdout",
     "output_type": "stream",
     "text": [
      "['\\n', 'Maria', 'Sharapova', 'has', 'basically', 'no', 'friends', 'as', 'tennis', 'players', 'on', 'the', 'WTA', 'Tour', '.', 'The', 'Russian', 'player', 'has', 'no', 'problems', 'in', 'openly', 'speaking', 'about', 'it', 'and', 'in', 'a', 'recent', 'interview', 'she', 'said', ':', '‘', 'I', 'do', 'n’t', 'really', 'hide', 'any', 'feelings', 'too', 'much', '.', '\\n', 'I', 'think', 'everyone', 'knows', 'this', 'is', 'my', 'job', 'here', '.', 'When', 'I', '’m', 'on', 'the', 'courts', 'or', 'when', 'I', '’m', 'on', 'the', 'court', 'playing', ',', 'I', '’m', 'a', 'competitor', 'and', 'I', 'want', 'to', 'beat', 'every', 'single', 'person', 'whether', 'they', '’re', 'in', 'the', 'locker', 'room', 'or', 'across', 'the', 'net', '.', '\\n', 'So', 'I', '’m', 'not', 'the', 'one', 'to', 'strike', 'up', 'a', 'conversation', 'about', 'the', 'weather', 'and', 'know', 'that', 'in', 'the', 'next', 'few', 'minutes', 'I', 'have', 'to', 'go', 'and', 'try', 'to', 'win', 'a', 'tennis', 'match', '.', '\\n', 'I', '’m', 'a', 'pretty', 'competitive', 'girl', '.', 'I', 'say', 'my', 'hellos', ',', 'but', 'I', '’m', 'not', 'sending', 'any', 'players', 'flowers', 'as', 'well', '.', 'Uhm', ',', 'I', '’m', 'not', 'really', 'friendly', 'or', 'close', 'to', 'many', 'players', '.', '\\n', 'I', 'have', 'not', 'a', 'lot', 'of', 'friends', 'away', 'from', 'the', 'courts', '.', '’', 'When', 'she', 'said', 'she', 'is', 'not', 'really', 'close', 'to', 'a', 'lot', 'of', 'players', ',', 'is', 'that', 'something', 'strategic', 'that', 'she', 'is', 'doing', '?', 'Is', 'it', 'different', 'on', 'the', 'men', '’s', 'tour', 'than', 'the', 'women', '’s', 'tour', '?', '‘', 'No', ',', 'not', 'at', 'all', '.', '\\n', 'I', 'think', 'just', 'because', 'you', '’re', 'in', 'the', 'same', 'sport', 'does', 'n’t', 'mean', 'that', 'you', 'have', 'to', 'be', 'friends', 'with', 'everyone', 'just', 'because', 'you', '’re', 'categorized', ',', 'you', '’re', 'a', 'tennis', 'player', ',', 'so', 'you', '’re', 'going', 'to', 'get', 'along', 'with', 'tennis', 'players', '.', '\\n', 'I', 'think', 'every', 'person', 'has', 'different', 'interests', '.', 'I', 'have', 'friends', 'that', 'have', 'completely', 'different', 'jobs', 'and', 'interests', ',', 'and', 'I', '’ve', 'met', 'them', 'in', 'very', 'different', 'parts', 'of', 'my', 'life', '.', '\\n', 'I', 'think', 'everyone', 'just', 'thinks', 'because', 'we', '’re', 'tennis', 'players', 'we', 'should', 'be', 'the', 'greatest', 'of', 'friends', '.', 'But', 'ultimately', 'tennis', 'is', 'just', 'a', 'very', 'small', 'part', 'of', 'what', 'we', 'do', '.', '\\n', 'There', 'are', 'so', 'many', 'other', 'things', 'that', 'we', '’re', 'interested', 'in', ',', 'that', 'we', 'do', '.']\n"
     ]
    }
   ],
   "source": [
    "tokens = [token.text for token in doc]\n",
    "print(tokens)"
   ]
  },
  {
   "cell_type": "code",
   "execution_count": 35,
   "id": "995e7df9-3679-4e00-b5f8-134428953b09",
   "metadata": {},
   "outputs": [
    {
     "data": {
      "text/plain": [
       "'!\"#$%&\\'()*+,-./:;<=>?@[\\\\]^_`{|}~\\n'"
      ]
     },
     "execution_count": 35,
     "metadata": {},
     "output_type": "execute_result"
    }
   ],
   "source": [
    "punctuation = punctuation + '\\n'\n",
    "punctuation"
   ]
  },
  {
   "cell_type": "code",
   "execution_count": 36,
   "id": "414914c7-cb06-4e16-9b3c-a40642c80215",
   "metadata": {},
   "outputs": [],
   "source": [
    "word_frequencies = {}\n",
    "for word in doc:\n",
    "    if word.text.lower() not in stopwords:\n",
    "        if word.text.lower() not in punctuation:\n",
    "            if word.text not in word_frequencies.keys():\n",
    "                word_frequencies[word.text] = 1\n",
    "            else:\n",
    "                word_frequencies[word.text] += 1"
   ]
  },
  {
   "cell_type": "code",
   "execution_count": 37,
   "id": "11f499c3-7a60-428d-84dd-fdd54b2fecea",
   "metadata": {},
   "outputs": [
    {
     "name": "stdout",
     "output_type": "stream",
     "text": [
      "{'Maria': 1, 'Sharapova': 1, 'basically': 1, 'friends': 5, 'tennis': 6, 'players': 6, 'WTA': 1, 'Tour': 1, 'Russian': 1, 'player': 2, 'problems': 1, 'openly': 1, 'speaking': 1, 'recent': 1, 'interview': 1, 'said': 2, '‘': 2, 'hide': 1, 'feelings': 1, 'think': 4, 'knows': 1, 'job': 1, 'courts': 2, 'court': 1, 'playing': 1, 'competitor': 1, 'want': 1, 'beat': 1, 'single': 1, 'person': 2, 'locker': 1, 'room': 1, 'net': 1, 'strike': 1, 'conversation': 1, 'weather': 1, 'know': 1, 'minutes': 1, 'try': 1, 'win': 1, 'match': 1, 'pretty': 1, 'competitive': 1, 'girl': 1, 'hellos': 1, 'sending': 1, 'flowers': 1, 'Uhm': 1, 'friendly': 1, 'close': 2, 'lot': 2, 'away': 1, '’': 1, 'strategic': 1, 'different': 4, 'men': 1, 'tour': 2, 'women': 1, 'sport': 1, 'mean': 1, 'categorized': 1, 'going': 1, 'interests': 2, 'completely': 1, 'jobs': 1, 'met': 1, 'parts': 1, 'life': 1, 'thinks': 1, 'greatest': 1, 'ultimately': 1, 'small': 1, 'things': 1, 'interested': 1}\n"
     ]
    }
   ],
   "source": [
    "print(word_frequencies)"
   ]
  },
  {
   "cell_type": "code",
   "execution_count": 38,
   "id": "c1af836a-ad86-41f2-aebf-89123e50951d",
   "metadata": {},
   "outputs": [
    {
     "data": {
      "text/plain": [
       "6"
      ]
     },
     "execution_count": 38,
     "metadata": {},
     "output_type": "execute_result"
    }
   ],
   "source": [
    "max_frequency = max(word_frequencies.values())\n",
    "max_frequency"
   ]
  },
  {
   "cell_type": "markdown",
   "id": "16a77692-2e0a-4bee-8ff4-5b5d95e4a70b",
   "metadata": {},
   "source": [
    "Sentence Tokenization"
   ]
  },
  {
   "cell_type": "code",
   "execution_count": 39,
   "id": "f9b912ad-8a92-4aea-a240-87c8fc1e7af1",
   "metadata": {},
   "outputs": [
    {
     "name": "stdout",
     "output_type": "stream",
     "text": [
      "{'Maria': 0.16666666666666666, 'Sharapova': 0.16666666666666666, 'basically': 0.16666666666666666, 'friends': 0.8333333333333334, 'tennis': 1.0, 'players': 1.0, 'WTA': 0.16666666666666666, 'Tour': 0.16666666666666666, 'Russian': 0.16666666666666666, 'player': 0.3333333333333333, 'problems': 0.16666666666666666, 'openly': 0.16666666666666666, 'speaking': 0.16666666666666666, 'recent': 0.16666666666666666, 'interview': 0.16666666666666666, 'said': 0.3333333333333333, '‘': 0.3333333333333333, 'hide': 0.16666666666666666, 'feelings': 0.16666666666666666, 'think': 0.6666666666666666, 'knows': 0.16666666666666666, 'job': 0.16666666666666666, 'courts': 0.3333333333333333, 'court': 0.16666666666666666, 'playing': 0.16666666666666666, 'competitor': 0.16666666666666666, 'want': 0.16666666666666666, 'beat': 0.16666666666666666, 'single': 0.16666666666666666, 'person': 0.3333333333333333, 'locker': 0.16666666666666666, 'room': 0.16666666666666666, 'net': 0.16666666666666666, 'strike': 0.16666666666666666, 'conversation': 0.16666666666666666, 'weather': 0.16666666666666666, 'know': 0.16666666666666666, 'minutes': 0.16666666666666666, 'try': 0.16666666666666666, 'win': 0.16666666666666666, 'match': 0.16666666666666666, 'pretty': 0.16666666666666666, 'competitive': 0.16666666666666666, 'girl': 0.16666666666666666, 'hellos': 0.16666666666666666, 'sending': 0.16666666666666666, 'flowers': 0.16666666666666666, 'Uhm': 0.16666666666666666, 'friendly': 0.16666666666666666, 'close': 0.3333333333333333, 'lot': 0.3333333333333333, 'away': 0.16666666666666666, '’': 0.16666666666666666, 'strategic': 0.16666666666666666, 'different': 0.6666666666666666, 'men': 0.16666666666666666, 'tour': 0.3333333333333333, 'women': 0.16666666666666666, 'sport': 0.16666666666666666, 'mean': 0.16666666666666666, 'categorized': 0.16666666666666666, 'going': 0.16666666666666666, 'interests': 0.3333333333333333, 'completely': 0.16666666666666666, 'jobs': 0.16666666666666666, 'met': 0.16666666666666666, 'parts': 0.16666666666666666, 'life': 0.16666666666666666, 'thinks': 0.16666666666666666, 'greatest': 0.16666666666666666, 'ultimately': 0.16666666666666666, 'small': 0.16666666666666666, 'things': 0.16666666666666666, 'interested': 0.16666666666666666}\n"
     ]
    }
   ],
   "source": [
    "for word in word_frequencies.keys():\n",
    "    word_frequencies[word] = word_frequencies[word]/max_frequency\n",
    "print(word_frequencies)"
   ]
  },
  {
   "cell_type": "code",
   "execution_count": 40,
   "id": "2e38a362-3e84-4f8d-8107-5434f8f99c0a",
   "metadata": {},
   "outputs": [
    {
     "name": "stdout",
     "output_type": "stream",
     "text": [
      "[\n",
      "Maria Sharapova has basically no friends as tennis players on the WTA Tour., The Russian player has no problems in openly speaking about it and in a recent interview she said: ‘I don’t really hide any feelings too much.\n",
      ", I think everyone knows this is my job here., When I’m on the courts or when I’m on the court playing, I’m a competitor and I want to beat every single person whether they’re in the locker room or across the net.\n",
      ", So I’m not the one to strike up a conversation about the weather and know that in the next few minutes I have to go and try to win a tennis match.\n",
      ", I’m a pretty competitive girl., I say my hellos, but I’m not sending any players flowers as well., Uhm, I’m not really friendly or close to many players.\n",
      ", I have not a lot of friends away from the courts.’, When she said she is not really close to a lot of players, is that something strategic that she is doing?, Is it different on the men’s tour than the women’s tour?, ‘No, not at all.\n",
      ", I think just because you’re in the same sport doesn’t mean that you have to be friends with everyone just because you’re categorized, you’re a tennis player, so you’re going to get along with tennis players.\n",
      ", I think every person has different interests., I have friends that have completely different jobs and interests, and I’ve met them in very different parts of my life.\n",
      ", I think everyone just thinks because we’re tennis players we should be the greatest of friends., But ultimately tennis is just a very small part of what we do.\n",
      ", There are so many other things that we’re interested in, that we do.]\n"
     ]
    }
   ],
   "source": [
    "sentence_tokens = [sent for sent in doc.sents]\n",
    "print(sentence_tokens)"
   ]
  },
  {
   "cell_type": "code",
   "execution_count": 41,
   "id": "870b3eae-2af3-41db-88af-6e9ef5735ee1",
   "metadata": {},
   "outputs": [
    {
     "data": {
      "text/plain": [
       "{\n",
       " Maria Sharapova has basically no friends as tennis players on the WTA Tour.: 3.3333333333333335,\n",
       " The Russian player has no problems in openly speaking about it and in a recent interview she said: ‘I don’t really hide any feelings too much.: 2.1666666666666665,\n",
       " I think everyone knows this is my job here.: 0.9999999999999999,\n",
       " When I’m on the courts or when I’m on the court playing, I’m a competitor and I want to beat every single person whether they’re in the locker room or across the net.: 2.1666666666666665,\n",
       " So I’m not the one to strike up a conversation about the weather and know that in the next few minutes I have to go and try to win a tennis match.: 2.333333333333333,\n",
       " I’m a pretty competitive girl.: 0.5,\n",
       " I say my hellos, but I’m not sending any players flowers as well.: 1.5,\n",
       " Uhm, I’m not really friendly or close to many players.: 1.5,\n",
       " I have not a lot of friends away from the courts.’: 1.8333333333333335,\n",
       " When she said she is not really close to a lot of players, is that something strategic that she is doing?: 2.1666666666666665,\n",
       " Is it different on the men’s tour than the women’s tour?: 1.6666666666666665,\n",
       " ‘No, not at all.: 0.3333333333333333,\n",
       " I think just because you’re in the same sport doesn’t mean that you have to be friends with everyone just because you’re categorized, you’re a tennis player, so you’re going to get along with tennis players.: 5.5,\n",
       " I think every person has different interests.: 1.9999999999999998,\n",
       " I have friends that have completely different jobs and interests, and I’ve met them in very different parts of my life.: 3.3333333333333326,\n",
       " I think everyone just thinks because we’re tennis players we should be the greatest of friends.: 3.833333333333333,\n",
       " But ultimately tennis is just a very small part of what we do.: 1.3333333333333335,\n",
       " There are so many other things that we’re interested in, that we do.: 0.3333333333333333}"
      ]
     },
     "execution_count": 41,
     "metadata": {},
     "output_type": "execute_result"
    }
   ],
   "source": [
    "sentence_scores = {}\n",
    "for sent in sentence_tokens:\n",
    "    for word in sent:\n",
    "        if word.text.lower() in word_frequencies.keys():\n",
    "            if sent not in sentence_scores.keys():\n",
    "                sentence_scores[sent] = word_frequencies[word.text.lower()]\n",
    "            else:\n",
    "                sentence_scores[sent] += word_frequencies[word.text.lower()]\n",
    "sentence_scores"
   ]
  },
  {
   "cell_type": "code",
   "execution_count": 42,
   "id": "115c6847-941f-4c9a-afdc-794d25ab0ab4",
   "metadata": {},
   "outputs": [
    {
     "data": {
      "text/plain": [
       "5"
      ]
     },
     "execution_count": 42,
     "metadata": {},
     "output_type": "execute_result"
    }
   ],
   "source": [
    "from heapq import nlargest\n",
    "select_length = int(len(sentence_tokens)*0.3)\n",
    "select_length"
   ]
  },
  {
   "cell_type": "code",
   "execution_count": 43,
   "id": "33e829dc-8e92-463d-b7cd-8ad818748708",
   "metadata": {},
   "outputs": [
    {
     "data": {
      "text/plain": [
       "[I think just because you’re in the same sport doesn’t mean that you have to be friends with everyone just because you’re categorized, you’re a tennis player, so you’re going to get along with tennis players.,\n",
       " I think everyone just thinks because we’re tennis players we should be the greatest of friends.,\n",
       " \n",
       " Maria Sharapova has basically no friends as tennis players on the WTA Tour.,\n",
       " I have friends that have completely different jobs and interests, and I’ve met them in very different parts of my life.,\n",
       " So I’m not the one to strike up a conversation about the weather and know that in the next few minutes I have to go and try to win a tennis match.]"
      ]
     },
     "execution_count": 43,
     "metadata": {},
     "output_type": "execute_result"
    }
   ],
   "source": [
    "summary = nlargest(select_length, sentence_scores, key = sentence_scores.get)\n",
    "summary"
   ]
  },
  {
   "cell_type": "code",
   "execution_count": 44,
   "id": "7b2ec6bb-69a3-4afd-bc9a-4e071623c154",
   "metadata": {},
   "outputs": [],
   "source": [
    "final_summary = [word.text for word in summary]\n",
    "summary = ' '.join(final_summary)"
   ]
  },
  {
   "cell_type": "code",
   "execution_count": 46,
   "id": "368f7b6b-af5c-4379-adb4-886d10d939ac",
   "metadata": {},
   "outputs": [
    {
     "name": "stdout",
     "output_type": "stream",
     "text": [
      "I think just because you’re in the same sport doesn’t mean that you have to be friends with everyone just because you’re categorized, you’re a tennis player, so you’re going to get along with tennis players.\n",
      " I think everyone just thinks because we’re tennis players we should be the greatest of friends. \n",
      "Maria Sharapova has basically no friends as tennis players on the WTA Tour. I have friends that have completely different jobs and interests, and I’ve met them in very different parts of my life.\n",
      " So I’m not the one to strike up a conversation about the weather and know that in the next few minutes I have to go and try to win a tennis match.\n",
      "\n"
     ]
    }
   ],
   "source": [
    "print(summary)"
   ]
  },
  {
   "cell_type": "code",
   "execution_count": 47,
   "id": "0d78cf9e-45ae-45a0-9f88-01b315f62686",
   "metadata": {},
   "outputs": [
    {
     "data": {
      "text/plain": [
       "1562"
      ]
     },
     "execution_count": 47,
     "metadata": {},
     "output_type": "execute_result"
    }
   ],
   "source": [
    "len(text)"
   ]
  },
  {
   "cell_type": "code",
   "execution_count": 48,
   "id": "8fc45d8b-4ec9-4031-99b1-e3a2cbc2923c",
   "metadata": {},
   "outputs": [
    {
     "data": {
      "text/plain": [
       "650"
      ]
     },
     "execution_count": 48,
     "metadata": {},
     "output_type": "execute_result"
    }
   ],
   "source": [
    "len(summary)"
   ]
  },
  {
   "cell_type": "code",
   "execution_count": 1,
   "id": "e1773edc-7d32-480d-9e6a-93a3c1666866",
   "metadata": {},
   "outputs": [
    {
     "data": {
      "text/html": [
       "\n",
       "                <audio  controls=\"controls\" autoplay=\"autoplay\">\n",
       "                    <source src=\"data:audio/wav;base64,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\" type=\"audio/wav\" />\n",
       "                    Your browser does not support the audio element.\n",
       "                </audio>\n",
       "              "
      ],
      "text/plain": [
       "<IPython.lib.display.Audio object>"
      ]
     },
     "metadata": {},
     "output_type": "display_data"
    }
   ],
   "source": [
    "from gtts import gTTS\n",
    "from IPython.display import Audio, display\n",
    "import io\n",
    "\n",
    "myText = \"Apple\"\n",
    "language = 'en'\n",
    "output = gTTS(text=myText, lang=language, slow=False)\n",
    "\n",
    "# Save gTTS output to an in-memory buffer\n",
    "buffer = io.BytesIO()\n",
    "output.write_to_fp(buffer)\n",
    "buffer.seek(0)\n",
    "\n",
    "# Play the audio directly using IPython's Audio widget\n",
    "display(Audio(buffer.read(), autoplay=True))"
   ]
  }
 ],
 "metadata": {
  "kernelspec": {
   "display_name": "Python 3 (ipykernel)",
   "language": "python",
   "name": "python3"
  },
  "language_info": {
   "codemirror_mode": {
    "name": "ipython",
    "version": 3
   },
   "file_extension": ".py",
   "mimetype": "text/x-python",
   "name": "python",
   "nbconvert_exporter": "python",
   "pygments_lexer": "ipython3",
   "version": "3.10.11"
  }
 },
 "nbformat": 4,
 "nbformat_minor": 5
}
