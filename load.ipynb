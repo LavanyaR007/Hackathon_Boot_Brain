{
 "cells": [
  {
   "cell_type": "markdown",
   "id": "30a27518-5e39-4635-a74c-878b11e12dcd",
   "metadata": {},
   "source": [
    "apple - 0\n",
    "banana - 1\n",
    "beetroot - 2\n",
    "cabbage - 3\n",
    "carrot - 4\n",
    "grapes - 5\n",
    "guva - 6\n",
    "mango - 7\n",
    "okra - 8\n",
    "pumpkin - 9"
   ]
  },
  {
   "cell_type": "code",
   "execution_count": 2,
   "id": "4a85f7c2-6faa-4283-a1e4-b92830b26388",
   "metadata": {},
   "outputs": [
    {
     "name": "stdout",
     "output_type": "stream",
     "text": [
      "File not found: /home/u116636/CNN/data/apple/.ipynb_checkpoints\n",
      "File not found: /home/u116636/CNN/data/carrot/.ipynb_checkpoints\n"
     ]
    }
   ],
   "source": [
    "\n",
    "\"\"\"\n",
    "# \n",
    "data=[]\n",
    "labels=[]\n",
    "\n",
    "# Apple 0\n",
    "apple = os.path.join(os.getcwd(),\"data\",\"apple\")\n",
    "images = os.listdir(apple)\n",
    "for x in images:\n",
    "    image_path = os.path.join(apple, x)\n",
    "    if os.path.isfile(image_path):\n",
    "        imag = cv2.imread(image_path)\n",
    "        if imag is not None:\n",
    "            img_from_ar = Image.fromarray(cv2.cvtColor(imag, cv2.COLOR_BGR2RGB))\n",
    "            resized_image = img_from_ar.resize((50, 50))\n",
    "            data.append(np.array(resized_image))\n",
    "            labels.append(0)\n",
    "        else:\n",
    "            print(f\"Error loading image: {image_path}\")\n",
    "    else:\n",
    "        print(f\"File not found: {image_path}\")\n",
    "\n",
    "# banana 1\n",
    "banana = os.path.join(os.getcwd(),\"data\",\"banana\")\n",
    "images = os.listdir(banana)\n",
    "for x in images:\n",
    "    image_path = os.path.join(banana, x)\n",
    "    if os.path.isfile(image_path):\n",
    "        imag = cv2.imread(image_path)\n",
    "        if imag is not None:\n",
    "            img_from_ar = Image.fromarray(cv2.cvtColor(imag, cv2.COLOR_BGR2RGB))\n",
    "            resized_image = img_from_ar.resize((50, 50))\n",
    "            data.append(np.array(resized_image))\n",
    "            labels.append(1)\n",
    "        else:\n",
    "            print(f\"Error loading image: {image_path}\")\n",
    "    else:\n",
    "        print(f\"File not found: {image_path}\")\n",
    "\n",
    "# beetroot\n",
    "beetroot = os.path.join(os.getcwd(),\"data\",\"beetroot\")\n",
    "images = os.listdir(beetroot)\n",
    "for x in images:\n",
    "    image_path = os.path.join(beetroot, x)\n",
    "    if os.path.isfile(image_path):\n",
    "        imag = cv2.imread(image_path)\n",
    "        if imag is not None:\n",
    "            img_from_ar = Image.fromarray(cv2.cvtColor(imag, cv2.COLOR_BGR2RGB))\n",
    "            resized_image = img_from_ar.resize((50, 50))\n",
    "            data.append(np.array(resized_image))\n",
    "            labels.append(2)\n",
    "        else:\n",
    "            print(f\"Error loading image: {image_path}\")\n",
    "    else:\n",
    "        print(f\"File not found: {image_path}\")\n",
    "\n",
    "# cabbage 3\n",
    "cabbage = os.path.join(os.getcwd(),\"data\",\"cabbage\")\n",
    "images = os.listdir(cabbage)\n",
    "for x in images:\n",
    "    image_path = os.path.join(cabbage, x)\n",
    "    if os.path.isfile(image_path):\n",
    "        imag = cv2.imread(image_path)\n",
    "        if imag is not None:\n",
    "            img_from_ar = Image.fromarray(cv2.cvtColor(imag, cv2.COLOR_BGR2RGB))\n",
    "            resized_image = img_from_ar.resize((50, 50))\n",
    "            data.append(np.array(resized_image))\n",
    "            labels.append(3)\n",
    "        else:\n",
    "            print(f\"Error loading image: {image_path}\")\n",
    "    else:\n",
    "        print(f\"File not found: {image_path}\")\n",
    "\n",
    "# carrot 4\n",
    "carrot = os.path.join(os.getcwd(),\"data\",\"carrot\")\n",
    "images = os.listdir(carrot)\n",
    "for x in images:\n",
    "    image_path = os.path.join(carrot, x)\n",
    "    if os.path.isfile(image_path):\n",
    "        imag = cv2.imread(image_path)\n",
    "        if imag is not None:\n",
    "            img_from_ar = Image.fromarray(cv2.cvtColor(imag, cv2.COLOR_BGR2RGB))\n",
    "            resized_image = img_from_ar.resize((50, 50))\n",
    "            data.append(np.array(resized_image))\n",
    "            labels.append(4)\n",
    "        else:\n",
    "            print(f\"Error loading image: {image_path}\")\n",
    "    else:\n",
    "        print(f\"File not found: {image_path}\")\n",
    "\n",
    "# grapes 5 \n",
    "grapes = os.path.join(os.getcwd(),\"data\",\"grapes\")\n",
    "images = os.listdir(grapes)\n",
    "for x in images:\n",
    "    image_path = os.path.join(grapes, x)\n",
    "    if os.path.isfile(image_path):\n",
    "        imag = cv2.imread(image_path)\n",
    "        if imag is not None:\n",
    "            img_from_ar = Image.fromarray(cv2.cvtColor(imag, cv2.COLOR_BGR2RGB))\n",
    "            resized_image = img_from_ar.resize((50, 50))\n",
    "            data.append(np.array(resized_image))\n",
    "            labels.append(5)\n",
    "        else:\n",
    "            print(f\"Error loading image: {image_path}\")\n",
    "    else:\n",
    "        print(f\"File not found: {image_path}\")\n",
    "\n",
    "# guva 6 \n",
    "guva = os.path.join(os.getcwd(),\"data\",\"guva\")\n",
    "images = os.listdir(guva)\n",
    "for x in images:\n",
    "    image_path = os.path.join(guva, x)\n",
    "    if os.path.isfile(image_path):\n",
    "        imag = cv2.imread(image_path)\n",
    "        if imag is not None:\n",
    "            img_from_ar = Image.fromarray(cv2.cvtColor(imag, cv2.COLOR_BGR2RGB))\n",
    "            resized_image = img_from_ar.resize((50, 50))\n",
    "            data.append(np.array(resized_image))\n",
    "            labels.append(6)\n",
    "        else:\n",
    "            print(f\"Error loading image: {image_path}\")\n",
    "    else:\n",
    "        print(f\"File not found: {image_path}\")\n",
    "\n",
    "# mango - 7\n",
    "mango = os.path.join(os.getcwd(),\"data\",\"mango\")\n",
    "images = os.listdir(mango)\n",
    "for x in images:\n",
    "    image_path = os.path.join(mango, x)\n",
    "    if os.path.isfile(image_path):\n",
    "        imag = cv2.imread(image_path)\n",
    "        if imag is not None:\n",
    "            img_from_ar = Image.fromarray(cv2.cvtColor(imag, cv2.COLOR_BGR2RGB))\n",
    "            resized_image = img_from_ar.resize((50, 50))\n",
    "            data.append(np.array(resized_image))\n",
    "            labels.append(7)\n",
    "        else:\n",
    "            print(f\"Error loading image: {image_path}\")\n",
    "    else:\n",
    "        print(f\"File not found: {image_path}\")\n",
    "\n",
    "# okra - 8\n",
    "okra = os.path.join(os.getcwd(),\"data\",\"okra\")\n",
    "images = os.listdir(okra)\n",
    "for x in images:\n",
    "    image_path = os.path.join(okra, x)\n",
    "    if os.path.isfile(image_path):\n",
    "        imag = cv2.imread(image_path)\n",
    "        if imag is not None:\n",
    "            img_from_ar = Image.fromarray(cv2.cvtColor(imag, cv2.COLOR_BGR2RGB))\n",
    "            resized_image = img_from_ar.resize((50, 50))\n",
    "            data.append(np.array(resized_image))\n",
    "            labels.append(8)\n",
    "        else:\n",
    "            print(f\"Error loading image: {image_path}\")\n",
    "    else:\n",
    "        print(f\"File not found: {image_path}\")\n",
    "\n",
    "# pumpkin - 9\n",
    "pumpkin = os.path.join(os.getcwd(),\"data\",\"pumpkin\")\n",
    "images = os.listdir(pumpkin)\n",
    "for x in images:\n",
    "    image_path = os.path.join(pumpkin, x)\n",
    "    if os.path.isfile(image_path):\n",
    "        imag = cv2.imread(image_path)\n",
    "        if imag is not None:\n",
    "            img_from_ar = Image.fromarray(cv2.cvtColor(imag, cv2.COLOR_BGR2RGB))\n",
    "            resized_image = img_from_ar.resize((50, 50))\n",
    "            data.append(np.array(resized_image))\n",
    "            labels.append(9)\n",
    "        else:\n",
    "            print(f\"Error loading image: {image_path}\")\n",
    "    else:\n",
    "        print(f\"File not found: {image_path}\")\n",
    "\n",
    "\n",
    "f=np.array(data)\n",
    "l=np.array(labels)\n",
    "# \n",
    "np.save(\"food\",f)\n",
    "np.save(\"lables\",l)\n",
    "\"\"\"\n",
    "\n",
    "import os\n",
    "import cv2\n",
    "from PIL import Image\n",
    "import numpy as np\n",
    "\n",
    "\n",
    "data = []\n",
    "labels = []\n",
    "\n",
    "label_mappings = {\n",
    "    \"apple\": 0,\n",
    "    \"banana\": 1,\n",
    "    \"beetroot\": 2,\n",
    "    \"cabbage\": 3,\n",
    "    \"carrot\": 4,\n",
    "    \"grapes\": 5,\n",
    "    \"guva\": 6,\n",
    "    \"mango\": 7,\n",
    "    \"okra\": 8,\n",
    "    \"pumpkin\": 9\n",
    "}\n",
    "\n",
    "def process_images(label, label_index):\n",
    "    image_folder = os.path.join(os.getcwd(), \"data\", label)\n",
    "    images = os.listdir(image_folder)\n",
    "    for image_name in images:\n",
    "        image_path = os.path.join(image_folder, image_name)\n",
    "        if os.path.isfile(image_path):\n",
    "            imag = cv2.imread(image_path)\n",
    "            if imag is not None:\n",
    "                img_from_ar = Image.fromarray(cv2.cvtColor(imag, cv2.COLOR_BGR2RGB))\n",
    "                resized_image = img_from_ar.resize((50, 50))\n",
    "                data.append(np.array(resized_image))\n",
    "                labels.append(label_index)\n",
    "            else:\n",
    "                print(f\"Error loading image: {image_path}\")\n",
    "        else:\n",
    "            print(f\"File not found: {image_path}\")\n",
    "\n",
    "# Process images for each label\n",
    "for label, label_index in label_mappings.items():\n",
    "    process_images(label, label_index)\n",
    "\n",
    "# Convert data and labels to NumPy arrays\n",
    "food = np.array(data)\n",
    "labels = np.array(labels)\n",
    "\n",
    "# Save the NumPy arrays\n",
    "np.save(\"food\", food)\n",
    "np.save(\"labels\", labels)\n"
   ]
  },
  {
   "cell_type": "code",
   "execution_count": 2,
   "id": "51b4bfd1-bc97-488f-bb3b-b306e19dec6b",
   "metadata": {},
   "outputs": [
    {
     "name": "stdout",
     "output_type": "stream",
     "text": [
      "Defaulting to user installation because normal site-packages is not writeable\n",
      "Requirement already satisfied: matplotlib in /home/u116636/.local/lib/python3.10/site-packages (3.7.2)\n",
      "Requirement already satisfied: pyparsing<3.1,>=2.3.1 in /home/u116636/.local/lib/python3.10/site-packages (from matplotlib) (3.0.9)\n",
      "Requirement already satisfied: python-dateutil>=2.7 in /home/common/miniconda3/envs/openvino/lib/python3.10/site-packages (from matplotlib) (2.8.2)\n",
      "Requirement already satisfied: kiwisolver>=1.0.1 in /home/u116636/.local/lib/python3.10/site-packages (from matplotlib) (1.4.4)\n",
      "Requirement already satisfied: packaging>=20.0 in /home/common/miniconda3/envs/openvino/lib/python3.10/site-packages (from matplotlib) (23.1)\n",
      "Requirement already satisfied: pillow>=6.2.0 in /home/u116636/.local/lib/python3.10/site-packages (from matplotlib) (10.0.0)\n",
      "Requirement already satisfied: cycler>=0.10 in /home/u116636/.local/lib/python3.10/site-packages (from matplotlib) (0.11.0)\n",
      "Requirement already satisfied: fonttools>=4.22.0 in /home/u116636/.local/lib/python3.10/site-packages (from matplotlib) (4.42.0)\n",
      "Requirement already satisfied: contourpy>=1.0.1 in /home/u116636/.local/lib/python3.10/site-packages (from matplotlib) (1.1.0)\n",
      "Requirement already satisfied: numpy>=1.20 in /home/common/miniconda3/envs/openvino/lib/python3.10/site-packages (from matplotlib) (1.24.3)\n",
      "Requirement already satisfied: six>=1.5 in /home/common/miniconda3/envs/openvino/lib/python3.10/site-packages (from python-dateutil>=2.7->matplotlib) (1.16.0)\n",
      "Note: you may need to restart the kernel to use updated packages.\n"
     ]
    }
   ],
   "source": [
    "pip install matplotlib"
   ]
  },
  {
   "cell_type": "code",
   "execution_count": 3,
   "id": "d1e391a6-2c5b-40ad-bb68-61f587dcfe4c",
   "metadata": {},
   "outputs": [
    {
     "name": "stdout",
     "output_type": "stream",
     "text": [
      "Model: \"sequential_1\"\n",
      "_________________________________________________________________\n",
      " Layer (type)                Output Shape              Param #   \n",
      "=================================================================\n",
      " conv2d_3 (Conv2D)           (None, 48, 48, 32)        896       \n",
      "                                                                 \n",
      " max_pooling2d_2 (MaxPooling  (None, 24, 24, 32)       0         \n",
      " 2D)                                                             \n",
      "                                                                 \n",
      " conv2d_4 (Conv2D)           (None, 22, 22, 64)        18496     \n",
      "                                                                 \n",
      " max_pooling2d_3 (MaxPooling  (None, 11, 11, 64)       0         \n",
      " 2D)                                                             \n",
      "                                                                 \n",
      " conv2d_5 (Conv2D)           (None, 9, 9, 64)          36928     \n",
      "                                                                 \n",
      "=================================================================\n",
      "Total params: 56,320\n",
      "Trainable params: 56,320\n",
      "Non-trainable params: 0\n",
      "_________________________________________________________________\n",
      "Model: \"sequential_1\"\n",
      "_________________________________________________________________\n",
      " Layer (type)                Output Shape              Param #   \n",
      "=================================================================\n",
      " conv2d_3 (Conv2D)           (None, 48, 48, 32)        896       \n",
      "                                                                 \n",
      " max_pooling2d_2 (MaxPooling  (None, 24, 24, 32)       0         \n",
      " 2D)                                                             \n",
      "                                                                 \n",
      " conv2d_4 (Conv2D)           (None, 22, 22, 64)        18496     \n",
      "                                                                 \n",
      " max_pooling2d_3 (MaxPooling  (None, 11, 11, 64)       0         \n",
      " 2D)                                                             \n",
      "                                                                 \n",
      " conv2d_5 (Conv2D)           (None, 9, 9, 64)          36928     \n",
      "                                                                 \n",
      " flatten_1 (Flatten)         (None, 5184)              0         \n",
      "                                                                 \n",
      " dense_2 (Dense)             (None, 64)                331840    \n",
      "                                                                 \n",
      " dense_3 (Dense)             (None, 10)                650       \n",
      "                                                                 \n",
      "=================================================================\n",
      "Total params: 388,810\n",
      "Trainable params: 388,810\n",
      "Non-trainable params: 0\n",
      "_________________________________________________________________\n",
      "Epoch 1/100\n"
     ]
    },
    {
     "name": "stderr",
     "output_type": "stream",
     "text": [
      "2023-08-10 21:48:20.062486: I tensorflow/core/grappler/optimizers/custom_graph_optimizer_registry.cc:114] Plugin optimizer for device_type CPU is enabled.\n",
      "2023-08-10 21:48:20.070070: I tensorflow/core/grappler/optimizers/custom_graph_optimizer_registry.cc:114] Plugin optimizer for device_type CPU is enabled.\n",
      "2023-08-10 21:48:20.079353: I tensorflow/core/grappler/optimizers/custom_graph_optimizer_registry.cc:114] Plugin optimizer for device_type CPU is enabled.\n",
      "2023-08-10 21:48:20.479905: I tensorflow/core/grappler/optimizers/custom_graph_optimizer_registry.cc:114] Plugin optimizer for device_type CPU is enabled.\n"
     ]
    },
    {
     "name": "stdout",
     "output_type": "stream",
     "text": [
      "22/22 [==============================] - 1s 22ms/step - loss: 2.2617 - accuracy: 0.1691 - val_loss: 2.1845 - val_accuracy: 0.2763\n",
      "Epoch 2/100\n",
      " 1/22 [>.............................] - ETA: 0s - loss: 2.1754 - accuracy: 0.2500"
     ]
    },
    {
     "name": "stderr",
     "output_type": "stream",
     "text": [
      "2023-08-10 21:48:20.971801: I tensorflow/core/grappler/optimizers/custom_graph_optimizer_registry.cc:114] Plugin optimizer for device_type CPU is enabled.\n",
      "2023-08-10 21:48:20.980608: I tensorflow/core/grappler/optimizers/custom_graph_optimizer_registry.cc:114] Plugin optimizer for device_type CPU is enabled.\n",
      "2023-08-10 21:48:20.994145: I tensorflow/core/grappler/optimizers/custom_graph_optimizer_registry.cc:114] Plugin optimizer for device_type CPU is enabled.\n",
      "2023-08-10 21:48:21.055917: I tensorflow/core/grappler/optimizers/custom_graph_optimizer_registry.cc:114] Plugin optimizer for device_type CPU is enabled.\n"
     ]
    },
    {
     "name": "stdout",
     "output_type": "stream",
     "text": [
      "22/22 [==============================] - 0s 11ms/step - loss: 1.9650 - accuracy: 0.2945 - val_loss: 1.7672 - val_accuracy: 0.3421\n",
      "Epoch 3/100\n",
      "17/22 [======================>.......] - ETA: 0s - loss: 1.6021 - accuracy: 0.4283"
     ]
    },
    {
     "name": "stderr",
     "output_type": "stream",
     "text": [
      "2023-08-10 21:48:21.335291: I tensorflow/core/grappler/optimizers/custom_graph_optimizer_registry.cc:114] Plugin optimizer for device_type CPU is enabled.\n",
      "2023-08-10 21:48:21.344031: I tensorflow/core/grappler/optimizers/custom_graph_optimizer_registry.cc:114] Plugin optimizer for device_type CPU is enabled.\n",
      "2023-08-10 21:48:21.357734: I tensorflow/core/grappler/optimizers/custom_graph_optimizer_registry.cc:114] Plugin optimizer for device_type CPU is enabled.\n"
     ]
    },
    {
     "name": "stdout",
     "output_type": "stream",
     "text": [
      "22/22 [==============================] - 0s 11ms/step - loss: 1.5859 - accuracy: 0.4257 - val_loss: 1.5387 - val_accuracy: 0.5000\n",
      "Epoch 4/100\n",
      "13/22 [================>.............] - ETA: 0s - loss: 1.3685 - accuracy: 0.5385"
     ]
    },
    {
     "name": "stderr",
     "output_type": "stream",
     "text": [
      "2023-08-10 21:48:21.588154: I tensorflow/core/grappler/optimizers/custom_graph_optimizer_registry.cc:114] Plugin optimizer for device_type CPU is enabled.\n",
      "2023-08-10 21:48:21.596889: I tensorflow/core/grappler/optimizers/custom_graph_optimizer_registry.cc:114] Plugin optimizer for device_type CPU is enabled.\n",
      "2023-08-10 21:48:21.610609: I tensorflow/core/grappler/optimizers/custom_graph_optimizer_registry.cc:114] Plugin optimizer for device_type CPU is enabled.\n"
     ]
    },
    {
     "name": "stdout",
     "output_type": "stream",
     "text": [
      "22/22 [==============================] - 0s 13ms/step - loss: 1.4166 - accuracy: 0.5029 - val_loss: 1.3664 - val_accuracy: 0.5000\n",
      "Epoch 5/100\n",
      "15/22 [===================>..........] - ETA: 0s - loss: 1.2946 - accuracy: 0.5312"
     ]
    },
    {
     "name": "stderr",
     "output_type": "stream",
     "text": [
      "2023-08-10 21:48:21.870244: I tensorflow/core/grappler/optimizers/custom_graph_optimizer_registry.cc:114] Plugin optimizer for device_type CPU is enabled.\n",
      "2023-08-10 21:48:21.879124: I tensorflow/core/grappler/optimizers/custom_graph_optimizer_registry.cc:114] Plugin optimizer for device_type CPU is enabled.\n",
      "2023-08-10 21:48:21.892812: I tensorflow/core/grappler/optimizers/custom_graph_optimizer_registry.cc:114] Plugin optimizer for device_type CPU is enabled.\n"
     ]
    },
    {
     "name": "stdout",
     "output_type": "stream",
     "text": [
      "22/22 [==============================] - 0s 12ms/step - loss: 1.2919 - accuracy: 0.5219 - val_loss: 1.3331 - val_accuracy: 0.5395\n",
      "Epoch 6/100\n",
      "15/22 [===================>..........] - ETA: 0s - loss: 1.1575 - accuracy: 0.6000"
     ]
    },
    {
     "name": "stderr",
     "output_type": "stream",
     "text": [
      "2023-08-10 21:48:22.134046: I tensorflow/core/grappler/optimizers/custom_graph_optimizer_registry.cc:114] Plugin optimizer for device_type CPU is enabled.\n",
      "2023-08-10 21:48:22.142608: I tensorflow/core/grappler/optimizers/custom_graph_optimizer_registry.cc:114] Plugin optimizer for device_type CPU is enabled.\n",
      "2023-08-10 21:48:22.156097: I tensorflow/core/grappler/optimizers/custom_graph_optimizer_registry.cc:114] Plugin optimizer for device_type CPU is enabled.\n"
     ]
    },
    {
     "name": "stdout",
     "output_type": "stream",
     "text": [
      "22/22 [==============================] - 0s 11ms/step - loss: 1.1450 - accuracy: 0.5918 - val_loss: 1.3951 - val_accuracy: 0.4868\n",
      "Epoch 7/100\n",
      "16/22 [====================>.........] - ETA: 0s - loss: 1.1506 - accuracy: 0.5938"
     ]
    },
    {
     "name": "stderr",
     "output_type": "stream",
     "text": [
      "2023-08-10 21:48:22.391035: I tensorflow/core/grappler/optimizers/custom_graph_optimizer_registry.cc:114] Plugin optimizer for device_type CPU is enabled.\n",
      "2023-08-10 21:48:22.399490: I tensorflow/core/grappler/optimizers/custom_graph_optimizer_registry.cc:114] Plugin optimizer for device_type CPU is enabled.\n",
      "2023-08-10 21:48:22.413036: I tensorflow/core/grappler/optimizers/custom_graph_optimizer_registry.cc:114] Plugin optimizer for device_type CPU is enabled.\n"
     ]
    },
    {
     "name": "stdout",
     "output_type": "stream",
     "text": [
      "22/22 [==============================] - 0s 13ms/step - loss: 1.1397 - accuracy: 0.6035 - val_loss: 1.3132 - val_accuracy: 0.4605\n",
      "Epoch 8/100\n",
      " 8/22 [=========>....................] - ETA: 0s - loss: 1.0239 - accuracy: 0.6445"
     ]
    },
    {
     "name": "stderr",
     "output_type": "stream",
     "text": [
      "2023-08-10 21:48:22.638917: I tensorflow/core/grappler/optimizers/custom_graph_optimizer_registry.cc:114] Plugin optimizer for device_type CPU is enabled.\n",
      "2023-08-10 21:48:22.647382: I tensorflow/core/grappler/optimizers/custom_graph_optimizer_registry.cc:114] Plugin optimizer for device_type CPU is enabled.\n",
      "2023-08-10 21:48:22.660870: I tensorflow/core/grappler/optimizers/custom_graph_optimizer_registry.cc:114] Plugin optimizer for device_type CPU is enabled.\n"
     ]
    },
    {
     "name": "stdout",
     "output_type": "stream",
     "text": [
      "22/22 [==============================] - 0s 12ms/step - loss: 1.0629 - accuracy: 0.6254 - val_loss: 1.2358 - val_accuracy: 0.5263\n",
      "Epoch 9/100\n",
      "15/22 [===================>..........] - ETA: 0s - loss: 0.9020 - accuracy: 0.6812"
     ]
    },
    {
     "name": "stderr",
     "output_type": "stream",
     "text": [
      "2023-08-10 21:48:22.929554: I tensorflow/core/grappler/optimizers/custom_graph_optimizer_registry.cc:114] Plugin optimizer for device_type CPU is enabled.\n",
      "2023-08-10 21:48:22.938103: I tensorflow/core/grappler/optimizers/custom_graph_optimizer_registry.cc:114] Plugin optimizer for device_type CPU is enabled.\n",
      "2023-08-10 21:48:22.951816: I tensorflow/core/grappler/optimizers/custom_graph_optimizer_registry.cc:114] Plugin optimizer for device_type CPU is enabled.\n"
     ]
    },
    {
     "name": "stdout",
     "output_type": "stream",
     "text": [
      "22/22 [==============================] - 0s 12ms/step - loss: 0.8931 - accuracy: 0.6968 - val_loss: 1.1057 - val_accuracy: 0.5526\n",
      "Epoch 10/100\n",
      "15/22 [===================>..........] - ETA: 0s - loss: 0.8258 - accuracy: 0.7375"
     ]
    },
    {
     "name": "stderr",
     "output_type": "stream",
     "text": [
      "2023-08-10 21:48:23.199151: I tensorflow/core/grappler/optimizers/custom_graph_optimizer_registry.cc:114] Plugin optimizer for device_type CPU is enabled.\n",
      "2023-08-10 21:48:23.207590: I tensorflow/core/grappler/optimizers/custom_graph_optimizer_registry.cc:114] Plugin optimizer for device_type CPU is enabled.\n",
      "2023-08-10 21:48:23.221227: I tensorflow/core/grappler/optimizers/custom_graph_optimizer_registry.cc:114] Plugin optimizer for device_type CPU is enabled.\n"
     ]
    },
    {
     "name": "stdout",
     "output_type": "stream",
     "text": [
      "22/22 [==============================] - 0s 12ms/step - loss: 0.8197 - accuracy: 0.7289 - val_loss: 1.4048 - val_accuracy: 0.5000\n",
      "Epoch 11/100\n",
      "15/22 [===================>..........] - ETA: 0s - loss: 0.7891 - accuracy: 0.7375"
     ]
    },
    {
     "name": "stderr",
     "output_type": "stream",
     "text": [
      "2023-08-10 21:48:23.456574: I tensorflow/core/grappler/optimizers/custom_graph_optimizer_registry.cc:114] Plugin optimizer for device_type CPU is enabled.\n",
      "2023-08-10 21:48:23.465071: I tensorflow/core/grappler/optimizers/custom_graph_optimizer_registry.cc:114] Plugin optimizer for device_type CPU is enabled.\n",
      "2023-08-10 21:48:23.478582: I tensorflow/core/grappler/optimizers/custom_graph_optimizer_registry.cc:114] Plugin optimizer for device_type CPU is enabled.\n"
     ]
    },
    {
     "name": "stdout",
     "output_type": "stream",
     "text": [
      "22/22 [==============================] - 0s 13ms/step - loss: 0.7743 - accuracy: 0.7347 - val_loss: 1.1742 - val_accuracy: 0.5395\n",
      "Epoch 12/100\n",
      " 7/22 [========>.....................] - ETA: 0s - loss: 0.6015 - accuracy: 0.7902"
     ]
    },
    {
     "name": "stderr",
     "output_type": "stream",
     "text": [
      "2023-08-10 21:48:23.731041: I tensorflow/core/grappler/optimizers/custom_graph_optimizer_registry.cc:114] Plugin optimizer for device_type CPU is enabled.\n",
      "2023-08-10 21:48:23.740489: I tensorflow/core/grappler/optimizers/custom_graph_optimizer_registry.cc:114] Plugin optimizer for device_type CPU is enabled.\n",
      "2023-08-10 21:48:23.753915: I tensorflow/core/grappler/optimizers/custom_graph_optimizer_registry.cc:114] Plugin optimizer for device_type CPU is enabled.\n"
     ]
    },
    {
     "name": "stdout",
     "output_type": "stream",
     "text": [
      "22/22 [==============================] - 0s 12ms/step - loss: 0.6551 - accuracy: 0.7741 - val_loss: 1.4459 - val_accuracy: 0.5789\n",
      "Epoch 13/100\n",
      " 7/22 [========>.....................] - ETA: 0s - loss: 0.6403 - accuracy: 0.7634"
     ]
    },
    {
     "name": "stderr",
     "output_type": "stream",
     "text": [
      "2023-08-10 21:48:24.026443: I tensorflow/core/grappler/optimizers/custom_graph_optimizer_registry.cc:114] Plugin optimizer for device_type CPU is enabled.\n",
      "2023-08-10 21:48:24.035348: I tensorflow/core/grappler/optimizers/custom_graph_optimizer_registry.cc:114] Plugin optimizer for device_type CPU is enabled.\n",
      "2023-08-10 21:48:24.048965: I tensorflow/core/grappler/optimizers/custom_graph_optimizer_registry.cc:114] Plugin optimizer for device_type CPU is enabled.\n"
     ]
    },
    {
     "name": "stdout",
     "output_type": "stream",
     "text": [
      "22/22 [==============================] - 0s 16ms/step - loss: 0.6327 - accuracy: 0.7755 - val_loss: 1.2760 - val_accuracy: 0.5921\n",
      "Epoch 14/100\n",
      "14/22 [==================>...........] - ETA: 0s - loss: 0.5425 - accuracy: 0.8170"
     ]
    },
    {
     "name": "stderr",
     "output_type": "stream",
     "text": [
      "2023-08-10 21:48:24.383907: I tensorflow/core/grappler/optimizers/custom_graph_optimizer_registry.cc:114] Plugin optimizer for device_type CPU is enabled.\n",
      "2023-08-10 21:48:24.392296: I tensorflow/core/grappler/optimizers/custom_graph_optimizer_registry.cc:114] Plugin optimizer for device_type CPU is enabled.\n",
      "2023-08-10 21:48:24.405913: I tensorflow/core/grappler/optimizers/custom_graph_optimizer_registry.cc:114] Plugin optimizer for device_type CPU is enabled.\n"
     ]
    },
    {
     "name": "stdout",
     "output_type": "stream",
     "text": [
      "22/22 [==============================] - 0s 12ms/step - loss: 0.5893 - accuracy: 0.7959 - val_loss: 1.3103 - val_accuracy: 0.5395\n",
      "Epoch 15/100\n",
      "15/22 [===================>..........] - ETA: 0s - loss: 0.5379 - accuracy: 0.8146"
     ]
    },
    {
     "name": "stderr",
     "output_type": "stream",
     "text": [
      "2023-08-10 21:48:24.654757: I tensorflow/core/grappler/optimizers/custom_graph_optimizer_registry.cc:114] Plugin optimizer for device_type CPU is enabled.\n",
      "2023-08-10 21:48:24.663218: I tensorflow/core/grappler/optimizers/custom_graph_optimizer_registry.cc:114] Plugin optimizer for device_type CPU is enabled.\n",
      "2023-08-10 21:48:24.676782: I tensorflow/core/grappler/optimizers/custom_graph_optimizer_registry.cc:114] Plugin optimizer for device_type CPU is enabled.\n"
     ]
    },
    {
     "name": "stdout",
     "output_type": "stream",
     "text": [
      "22/22 [==============================] - 0s 12ms/step - loss: 0.5007 - accuracy: 0.8294 - val_loss: 1.4598 - val_accuracy: 0.5789\n",
      "Epoch 16/100\n",
      "15/22 [===================>..........] - ETA: 0s - loss: 0.3693 - accuracy: 0.8708"
     ]
    },
    {
     "name": "stderr",
     "output_type": "stream",
     "text": [
      "2023-08-10 21:48:24.928062: I tensorflow/core/grappler/optimizers/custom_graph_optimizer_registry.cc:114] Plugin optimizer for device_type CPU is enabled.\n",
      "2023-08-10 21:48:24.936383: I tensorflow/core/grappler/optimizers/custom_graph_optimizer_registry.cc:114] Plugin optimizer for device_type CPU is enabled.\n",
      "2023-08-10 21:48:24.949733: I tensorflow/core/grappler/optimizers/custom_graph_optimizer_registry.cc:114] Plugin optimizer for device_type CPU is enabled.\n"
     ]
    },
    {
     "name": "stdout",
     "output_type": "stream",
     "text": [
      "22/22 [==============================] - 0s 12ms/step - loss: 0.3694 - accuracy: 0.8703 - val_loss: 1.8798 - val_accuracy: 0.4868\n",
      "Epoch 17/100\n",
      "14/22 [==================>...........] - ETA: 0s - loss: 0.3177 - accuracy: 0.8906"
     ]
    },
    {
     "name": "stderr",
     "output_type": "stream",
     "text": [
      "2023-08-10 21:48:25.196102: I tensorflow/core/grappler/optimizers/custom_graph_optimizer_registry.cc:114] Plugin optimizer for device_type CPU is enabled.\n",
      "2023-08-10 21:48:25.204290: I tensorflow/core/grappler/optimizers/custom_graph_optimizer_registry.cc:114] Plugin optimizer for device_type CPU is enabled.\n",
      "2023-08-10 21:48:25.217693: I tensorflow/core/grappler/optimizers/custom_graph_optimizer_registry.cc:114] Plugin optimizer for device_type CPU is enabled.\n"
     ]
    },
    {
     "name": "stdout",
     "output_type": "stream",
     "text": [
      "22/22 [==============================] - 0s 13ms/step - loss: 0.3648 - accuracy: 0.8717 - val_loss: 1.4261 - val_accuracy: 0.6053\n",
      "Epoch 18/100\n",
      "14/22 [==================>...........] - ETA: 0s - loss: 0.2871 - accuracy: 0.9219"
     ]
    },
    {
     "name": "stderr",
     "output_type": "stream",
     "text": [
      "2023-08-10 21:48:25.474803: I tensorflow/core/grappler/optimizers/custom_graph_optimizer_registry.cc:114] Plugin optimizer for device_type CPU is enabled.\n",
      "2023-08-10 21:48:25.483336: I tensorflow/core/grappler/optimizers/custom_graph_optimizer_registry.cc:114] Plugin optimizer for device_type CPU is enabled.\n",
      "2023-08-10 21:48:25.496736: I tensorflow/core/grappler/optimizers/custom_graph_optimizer_registry.cc:114] Plugin optimizer for device_type CPU is enabled.\n"
     ]
    },
    {
     "name": "stdout",
     "output_type": "stream",
     "text": [
      "22/22 [==============================] - 0s 13ms/step - loss: 0.2959 - accuracy: 0.9242 - val_loss: 1.6981 - val_accuracy: 0.5395\n",
      "Epoch 19/100\n",
      "13/22 [================>.............] - ETA: 0s - loss: 0.2818 - accuracy: 0.9111"
     ]
    },
    {
     "name": "stderr",
     "output_type": "stream",
     "text": [
      "2023-08-10 21:48:25.751842: I tensorflow/core/grappler/optimizers/custom_graph_optimizer_registry.cc:114] Plugin optimizer for device_type CPU is enabled.\n",
      "2023-08-10 21:48:25.760005: I tensorflow/core/grappler/optimizers/custom_graph_optimizer_registry.cc:114] Plugin optimizer for device_type CPU is enabled.\n",
      "2023-08-10 21:48:25.773428: I tensorflow/core/grappler/optimizers/custom_graph_optimizer_registry.cc:114] Plugin optimizer for device_type CPU is enabled.\n"
     ]
    },
    {
     "name": "stdout",
     "output_type": "stream",
     "text": [
      "22/22 [==============================] - 0s 13ms/step - loss: 0.2539 - accuracy: 0.9198 - val_loss: 1.7775 - val_accuracy: 0.5789\n",
      "Epoch 20/100\n",
      "15/22 [===================>..........] - ETA: 0s - loss: 0.1802 - accuracy: 0.9438"
     ]
    },
    {
     "name": "stderr",
     "output_type": "stream",
     "text": [
      "2023-08-10 21:48:26.037779: I tensorflow/core/grappler/optimizers/custom_graph_optimizer_registry.cc:114] Plugin optimizer for device_type CPU is enabled.\n",
      "2023-08-10 21:48:26.046117: I tensorflow/core/grappler/optimizers/custom_graph_optimizer_registry.cc:114] Plugin optimizer for device_type CPU is enabled.\n",
      "2023-08-10 21:48:26.059417: I tensorflow/core/grappler/optimizers/custom_graph_optimizer_registry.cc:114] Plugin optimizer for device_type CPU is enabled.\n"
     ]
    },
    {
     "name": "stdout",
     "output_type": "stream",
     "text": [
      "22/22 [==============================] - 0s 12ms/step - loss: 0.1794 - accuracy: 0.9446 - val_loss: 1.7295 - val_accuracy: 0.5526\n",
      "Epoch 21/100\n",
      "14/22 [==================>...........] - ETA: 0s - loss: 0.1432 - accuracy: 0.9621"
     ]
    },
    {
     "name": "stderr",
     "output_type": "stream",
     "text": [
      "2023-08-10 21:48:26.316775: I tensorflow/core/grappler/optimizers/custom_graph_optimizer_registry.cc:114] Plugin optimizer for device_type CPU is enabled.\n",
      "2023-08-10 21:48:26.325018: I tensorflow/core/grappler/optimizers/custom_graph_optimizer_registry.cc:114] Plugin optimizer for device_type CPU is enabled.\n",
      "2023-08-10 21:48:26.338387: I tensorflow/core/grappler/optimizers/custom_graph_optimizer_registry.cc:114] Plugin optimizer for device_type CPU is enabled.\n"
     ]
    },
    {
     "name": "stdout",
     "output_type": "stream",
     "text": [
      "22/22 [==============================] - 0s 13ms/step - loss: 0.1405 - accuracy: 0.9606 - val_loss: 2.0690 - val_accuracy: 0.5658\n",
      "Epoch 22/100\n",
      " 8/22 [=========>....................] - ETA: 0s - loss: 0.0910 - accuracy: 0.9805"
     ]
    },
    {
     "name": "stderr",
     "output_type": "stream",
     "text": [
      "2023-08-10 21:48:26.595178: I tensorflow/core/grappler/optimizers/custom_graph_optimizer_registry.cc:114] Plugin optimizer for device_type CPU is enabled.\n",
      "2023-08-10 21:48:26.603640: I tensorflow/core/grappler/optimizers/custom_graph_optimizer_registry.cc:114] Plugin optimizer for device_type CPU is enabled.\n",
      "2023-08-10 21:48:26.617056: I tensorflow/core/grappler/optimizers/custom_graph_optimizer_registry.cc:114] Plugin optimizer for device_type CPU is enabled.\n"
     ]
    },
    {
     "name": "stdout",
     "output_type": "stream",
     "text": [
      "22/22 [==============================] - 0s 13ms/step - loss: 0.0967 - accuracy: 0.9781 - val_loss: 1.9432 - val_accuracy: 0.5789\n",
      "Epoch 23/100\n",
      "15/22 [===================>..........] - ETA: 0s - loss: 0.1027 - accuracy: 0.9646"
     ]
    },
    {
     "name": "stderr",
     "output_type": "stream",
     "text": [
      "2023-08-10 21:48:26.916410: I tensorflow/core/grappler/optimizers/custom_graph_optimizer_registry.cc:114] Plugin optimizer for device_type CPU is enabled.\n",
      "2023-08-10 21:48:26.925023: I tensorflow/core/grappler/optimizers/custom_graph_optimizer_registry.cc:114] Plugin optimizer for device_type CPU is enabled.\n",
      "2023-08-10 21:48:26.942387: I tensorflow/core/grappler/optimizers/custom_graph_optimizer_registry.cc:114] Plugin optimizer for device_type CPU is enabled.\n"
     ]
    },
    {
     "name": "stdout",
     "output_type": "stream",
     "text": [
      "22/22 [==============================] - 0s 11ms/step - loss: 0.1091 - accuracy: 0.9636 - val_loss: 2.1614 - val_accuracy: 0.5789\n",
      "Epoch 24/100\n",
      "16/22 [====================>.........] - ETA: 0s - loss: 0.0930 - accuracy: 0.9727"
     ]
    },
    {
     "name": "stderr",
     "output_type": "stream",
     "text": [
      "2023-08-10 21:48:27.173665: I tensorflow/core/grappler/optimizers/custom_graph_optimizer_registry.cc:114] Plugin optimizer for device_type CPU is enabled.\n",
      "2023-08-10 21:48:27.181954: I tensorflow/core/grappler/optimizers/custom_graph_optimizer_registry.cc:114] Plugin optimizer for device_type CPU is enabled.\n",
      "2023-08-10 21:48:27.195354: I tensorflow/core/grappler/optimizers/custom_graph_optimizer_registry.cc:114] Plugin optimizer for device_type CPU is enabled.\n"
     ]
    },
    {
     "name": "stdout",
     "output_type": "stream",
     "text": [
      "22/22 [==============================] - 0s 12ms/step - loss: 0.1008 - accuracy: 0.9694 - val_loss: 2.5799 - val_accuracy: 0.5263\n",
      "Epoch 25/100\n",
      "15/22 [===================>..........] - ETA: 0s - loss: 0.1791 - accuracy: 0.9438"
     ]
    },
    {
     "name": "stderr",
     "output_type": "stream",
     "text": [
      "2023-08-10 21:48:27.426172: I tensorflow/core/grappler/optimizers/custom_graph_optimizer_registry.cc:114] Plugin optimizer for device_type CPU is enabled.\n",
      "2023-08-10 21:48:27.434578: I tensorflow/core/grappler/optimizers/custom_graph_optimizer_registry.cc:114] Plugin optimizer for device_type CPU is enabled.\n",
      "2023-08-10 21:48:27.448209: I tensorflow/core/grappler/optimizers/custom_graph_optimizer_registry.cc:114] Plugin optimizer for device_type CPU is enabled.\n"
     ]
    },
    {
     "name": "stdout",
     "output_type": "stream",
     "text": [
      "22/22 [==============================] - 0s 12ms/step - loss: 0.1718 - accuracy: 0.9490 - val_loss: 2.0275 - val_accuracy: 0.5526\n",
      "Epoch 26/100\n",
      "15/22 [===================>..........] - ETA: 0s - loss: 0.1245 - accuracy: 0.9646"
     ]
    },
    {
     "name": "stderr",
     "output_type": "stream",
     "text": [
      "2023-08-10 21:48:27.697251: I tensorflow/core/grappler/optimizers/custom_graph_optimizer_registry.cc:114] Plugin optimizer for device_type CPU is enabled.\n",
      "2023-08-10 21:48:27.705876: I tensorflow/core/grappler/optimizers/custom_graph_optimizer_registry.cc:114] Plugin optimizer for device_type CPU is enabled.\n",
      "2023-08-10 21:48:27.719407: I tensorflow/core/grappler/optimizers/custom_graph_optimizer_registry.cc:114] Plugin optimizer for device_type CPU is enabled.\n"
     ]
    },
    {
     "name": "stdout",
     "output_type": "stream",
     "text": [
      "22/22 [==============================] - 0s 12ms/step - loss: 0.1402 - accuracy: 0.9606 - val_loss: 2.5735 - val_accuracy: 0.5132\n",
      "Epoch 27/100\n",
      "14/22 [==================>...........] - ETA: 0s - loss: 0.2889 - accuracy: 0.8951"
     ]
    },
    {
     "name": "stderr",
     "output_type": "stream",
     "text": [
      "2023-08-10 21:48:27.972495: I tensorflow/core/grappler/optimizers/custom_graph_optimizer_registry.cc:114] Plugin optimizer for device_type CPU is enabled.\n",
      "2023-08-10 21:48:27.980033: I tensorflow/core/grappler/optimizers/custom_graph_optimizer_registry.cc:114] Plugin optimizer for device_type CPU is enabled.\n",
      "2023-08-10 21:48:27.993677: I tensorflow/core/grappler/optimizers/custom_graph_optimizer_registry.cc:114] Plugin optimizer for device_type CPU is enabled.\n"
     ]
    },
    {
     "name": "stdout",
     "output_type": "stream",
     "text": [
      "22/22 [==============================] - 0s 13ms/step - loss: 0.2850 - accuracy: 0.9052 - val_loss: 2.2159 - val_accuracy: 0.5132\n",
      "Epoch 28/100\n",
      " 8/22 [=========>....................] - ETA: 0s - loss: 0.1430 - accuracy: 0.9492"
     ]
    },
    {
     "name": "stderr",
     "output_type": "stream",
     "text": [
      "2023-08-10 21:48:28.256377: I tensorflow/core/grappler/optimizers/custom_graph_optimizer_registry.cc:114] Plugin optimizer for device_type CPU is enabled.\n",
      "2023-08-10 21:48:28.264941: I tensorflow/core/grappler/optimizers/custom_graph_optimizer_registry.cc:114] Plugin optimizer for device_type CPU is enabled.\n",
      "2023-08-10 21:48:28.278379: I tensorflow/core/grappler/optimizers/custom_graph_optimizer_registry.cc:114] Plugin optimizer for device_type CPU is enabled.\n"
     ]
    },
    {
     "name": "stdout",
     "output_type": "stream",
     "text": [
      "22/22 [==============================] - 0s 13ms/step - loss: 0.1250 - accuracy: 0.9650 - val_loss: 1.9245 - val_accuracy: 0.5658\n",
      "Epoch 29/100\n",
      "16/22 [====================>.........] - ETA: 0s - loss: 0.0379 - accuracy: 0.9922"
     ]
    },
    {
     "name": "stderr",
     "output_type": "stream",
     "text": [
      "2023-08-10 21:48:28.548425: I tensorflow/core/grappler/optimizers/custom_graph_optimizer_registry.cc:114] Plugin optimizer for device_type CPU is enabled.\n",
      "2023-08-10 21:48:28.556614: I tensorflow/core/grappler/optimizers/custom_graph_optimizer_registry.cc:114] Plugin optimizer for device_type CPU is enabled.\n",
      "2023-08-10 21:48:28.570045: I tensorflow/core/grappler/optimizers/custom_graph_optimizer_registry.cc:114] Plugin optimizer for device_type CPU is enabled.\n"
     ]
    },
    {
     "name": "stdout",
     "output_type": "stream",
     "text": [
      "22/22 [==============================] - 0s 12ms/step - loss: 0.0401 - accuracy: 0.9913 - val_loss: 2.0559 - val_accuracy: 0.5658\n",
      "Epoch 30/100\n",
      "15/22 [===================>..........] - ETA: 0s - loss: 0.0254 - accuracy: 0.9958"
     ]
    },
    {
     "name": "stderr",
     "output_type": "stream",
     "text": [
      "2023-08-10 21:48:28.807509: I tensorflow/core/grappler/optimizers/custom_graph_optimizer_registry.cc:114] Plugin optimizer for device_type CPU is enabled.\n",
      "2023-08-10 21:48:28.816752: I tensorflow/core/grappler/optimizers/custom_graph_optimizer_registry.cc:114] Plugin optimizer for device_type CPU is enabled.\n",
      "2023-08-10 21:48:28.830463: I tensorflow/core/grappler/optimizers/custom_graph_optimizer_registry.cc:114] Plugin optimizer for device_type CPU is enabled.\n"
     ]
    },
    {
     "name": "stdout",
     "output_type": "stream",
     "text": [
      "22/22 [==============================] - 0s 12ms/step - loss: 0.0300 - accuracy: 0.9927 - val_loss: 2.3464 - val_accuracy: 0.5263\n",
      "Epoch 31/100\n",
      "16/22 [====================>.........] - ETA: 0s - loss: 0.0242 - accuracy: 0.9941"
     ]
    },
    {
     "name": "stderr",
     "output_type": "stream",
     "text": [
      "2023-08-10 21:48:29.072368: I tensorflow/core/grappler/optimizers/custom_graph_optimizer_registry.cc:114] Plugin optimizer for device_type CPU is enabled.\n",
      "2023-08-10 21:48:29.081017: I tensorflow/core/grappler/optimizers/custom_graph_optimizer_registry.cc:114] Plugin optimizer for device_type CPU is enabled.\n",
      "2023-08-10 21:48:29.094568: I tensorflow/core/grappler/optimizers/custom_graph_optimizer_registry.cc:114] Plugin optimizer for device_type CPU is enabled.\n"
     ]
    },
    {
     "name": "stdout",
     "output_type": "stream",
     "text": [
      "22/22 [==============================] - 0s 12ms/step - loss: 0.0234 - accuracy: 0.9956 - val_loss: 2.3778 - val_accuracy: 0.5395\n",
      "Epoch 32/100\n",
      "15/22 [===================>..........] - ETA: 0s - loss: 0.0134 - accuracy: 0.9979"
     ]
    },
    {
     "name": "stderr",
     "output_type": "stream",
     "text": [
      "2023-08-10 21:48:29.341733: I tensorflow/core/grappler/optimizers/custom_graph_optimizer_registry.cc:114] Plugin optimizer for device_type CPU is enabled.\n",
      "2023-08-10 21:48:29.350577: I tensorflow/core/grappler/optimizers/custom_graph_optimizer_registry.cc:114] Plugin optimizer for device_type CPU is enabled.\n",
      "2023-08-10 21:48:29.364333: I tensorflow/core/grappler/optimizers/custom_graph_optimizer_registry.cc:114] Plugin optimizer for device_type CPU is enabled.\n"
     ]
    },
    {
     "name": "stdout",
     "output_type": "stream",
     "text": [
      "22/22 [==============================] - 0s 12ms/step - loss: 0.0130 - accuracy: 0.9985 - val_loss: 2.6970 - val_accuracy: 0.5789\n",
      "Epoch 33/100\n",
      "15/22 [===================>..........] - ETA: 0s - loss: 0.0114 - accuracy: 1.0000"
     ]
    },
    {
     "name": "stderr",
     "output_type": "stream",
     "text": [
      "2023-08-10 21:48:29.607573: I tensorflow/core/grappler/optimizers/custom_graph_optimizer_registry.cc:114] Plugin optimizer for device_type CPU is enabled.\n",
      "2023-08-10 21:48:29.616145: I tensorflow/core/grappler/optimizers/custom_graph_optimizer_registry.cc:114] Plugin optimizer for device_type CPU is enabled.\n",
      "2023-08-10 21:48:29.629725: I tensorflow/core/grappler/optimizers/custom_graph_optimizer_registry.cc:114] Plugin optimizer for device_type CPU is enabled.\n"
     ]
    },
    {
     "name": "stdout",
     "output_type": "stream",
     "text": [
      "22/22 [==============================] - 0s 12ms/step - loss: 0.0106 - accuracy: 1.0000 - val_loss: 2.5441 - val_accuracy: 0.5526\n",
      "Epoch 34/100\n",
      " 7/22 [========>.....................] - ETA: 0s - loss: 0.0072 - accuracy: 1.0000"
     ]
    },
    {
     "name": "stderr",
     "output_type": "stream",
     "text": [
      "2023-08-10 21:48:29.867433: I tensorflow/core/grappler/optimizers/custom_graph_optimizer_registry.cc:114] Plugin optimizer for device_type CPU is enabled.\n",
      "2023-08-10 21:48:29.875725: I tensorflow/core/grappler/optimizers/custom_graph_optimizer_registry.cc:114] Plugin optimizer for device_type CPU is enabled.\n",
      "2023-08-10 21:48:29.889208: I tensorflow/core/grappler/optimizers/custom_graph_optimizer_registry.cc:114] Plugin optimizer for device_type CPU is enabled.\n"
     ]
    },
    {
     "name": "stdout",
     "output_type": "stream",
     "text": [
      "22/22 [==============================] - 0s 12ms/step - loss: 0.0066 - accuracy: 1.0000 - val_loss: 2.5893 - val_accuracy: 0.5395\n",
      "Epoch 35/100\n",
      "13/22 [================>.............] - ETA: 0s - loss: 0.0046 - accuracy: 1.0000"
     ]
    },
    {
     "name": "stderr",
     "output_type": "stream",
     "text": [
      "2023-08-10 21:48:30.143588: I tensorflow/core/grappler/optimizers/custom_graph_optimizer_registry.cc:114] Plugin optimizer for device_type CPU is enabled.\n",
      "2023-08-10 21:48:30.151797: I tensorflow/core/grappler/optimizers/custom_graph_optimizer_registry.cc:114] Plugin optimizer for device_type CPU is enabled.\n",
      "2023-08-10 21:48:30.165144: I tensorflow/core/grappler/optimizers/custom_graph_optimizer_registry.cc:114] Plugin optimizer for device_type CPU is enabled.\n"
     ]
    },
    {
     "name": "stdout",
     "output_type": "stream",
     "text": [
      "22/22 [==============================] - 0s 12ms/step - loss: 0.0047 - accuracy: 1.0000 - val_loss: 2.7121 - val_accuracy: 0.5395\n",
      "Epoch 36/100\n",
      " 6/22 [=======>......................] - ETA: 0s - loss: 0.0025 - accuracy: 1.0000"
     ]
    },
    {
     "name": "stderr",
     "output_type": "stream",
     "text": [
      "2023-08-10 21:48:30.412186: I tensorflow/core/grappler/optimizers/custom_graph_optimizer_registry.cc:114] Plugin optimizer for device_type CPU is enabled.\n",
      "2023-08-10 21:48:30.420600: I tensorflow/core/grappler/optimizers/custom_graph_optimizer_registry.cc:114] Plugin optimizer for device_type CPU is enabled.\n",
      "2023-08-10 21:48:30.434025: I tensorflow/core/grappler/optimizers/custom_graph_optimizer_registry.cc:114] Plugin optimizer for device_type CPU is enabled.\n"
     ]
    },
    {
     "name": "stdout",
     "output_type": "stream",
     "text": [
      "22/22 [==============================] - 0s 15ms/step - loss: 0.0039 - accuracy: 1.0000 - val_loss: 2.7938 - val_accuracy: 0.5526\n",
      "Epoch 37/100\n",
      "14/22 [==================>...........] - ETA: 0s - loss: 0.0042 - accuracy: 1.0000"
     ]
    },
    {
     "name": "stderr",
     "output_type": "stream",
     "text": [
      "2023-08-10 21:48:30.735919: I tensorflow/core/grappler/optimizers/custom_graph_optimizer_registry.cc:114] Plugin optimizer for device_type CPU is enabled.\n",
      "2023-08-10 21:48:30.745462: I tensorflow/core/grappler/optimizers/custom_graph_optimizer_registry.cc:114] Plugin optimizer for device_type CPU is enabled.\n",
      "2023-08-10 21:48:30.758981: I tensorflow/core/grappler/optimizers/custom_graph_optimizer_registry.cc:114] Plugin optimizer for device_type CPU is enabled.\n"
     ]
    },
    {
     "name": "stdout",
     "output_type": "stream",
     "text": [
      "22/22 [==============================] - 0s 12ms/step - loss: 0.0040 - accuracy: 1.0000 - val_loss: 2.8084 - val_accuracy: 0.5526\n",
      "Epoch 38/100\n",
      "15/22 [===================>..........] - ETA: 0s - loss: 0.0037 - accuracy: 1.0000"
     ]
    },
    {
     "name": "stderr",
     "output_type": "stream",
     "text": [
      "2023-08-10 21:48:31.004348: I tensorflow/core/grappler/optimizers/custom_graph_optimizer_registry.cc:114] Plugin optimizer for device_type CPU is enabled.\n",
      "2023-08-10 21:48:31.013042: I tensorflow/core/grappler/optimizers/custom_graph_optimizer_registry.cc:114] Plugin optimizer for device_type CPU is enabled.\n",
      "2023-08-10 21:48:31.026536: I tensorflow/core/grappler/optimizers/custom_graph_optimizer_registry.cc:114] Plugin optimizer for device_type CPU is enabled.\n"
     ]
    },
    {
     "name": "stdout",
     "output_type": "stream",
     "text": [
      "22/22 [==============================] - 0s 12ms/step - loss: 0.0034 - accuracy: 1.0000 - val_loss: 2.7872 - val_accuracy: 0.5395\n",
      "Epoch 39/100\n",
      "15/22 [===================>..........] - ETA: 0s - loss: 0.0025 - accuracy: 1.0000"
     ]
    },
    {
     "name": "stderr",
     "output_type": "stream",
     "text": [
      "2023-08-10 21:48:31.272264: I tensorflow/core/grappler/optimizers/custom_graph_optimizer_registry.cc:114] Plugin optimizer for device_type CPU is enabled.\n",
      "2023-08-10 21:48:31.280969: I tensorflow/core/grappler/optimizers/custom_graph_optimizer_registry.cc:114] Plugin optimizer for device_type CPU is enabled.\n",
      "2023-08-10 21:48:31.294516: I tensorflow/core/grappler/optimizers/custom_graph_optimizer_registry.cc:114] Plugin optimizer for device_type CPU is enabled.\n"
     ]
    },
    {
     "name": "stdout",
     "output_type": "stream",
     "text": [
      "22/22 [==============================] - 0s 12ms/step - loss: 0.0025 - accuracy: 1.0000 - val_loss: 2.8949 - val_accuracy: 0.5395\n",
      "Epoch 40/100\n",
      "16/22 [====================>.........] - ETA: 0s - loss: 0.0022 - accuracy: 1.0000"
     ]
    },
    {
     "name": "stderr",
     "output_type": "stream",
     "text": [
      "2023-08-10 21:48:31.545266: I tensorflow/core/grappler/optimizers/custom_graph_optimizer_registry.cc:114] Plugin optimizer for device_type CPU is enabled.\n",
      "2023-08-10 21:48:31.553938: I tensorflow/core/grappler/optimizers/custom_graph_optimizer_registry.cc:114] Plugin optimizer for device_type CPU is enabled.\n",
      "2023-08-10 21:48:31.567325: I tensorflow/core/grappler/optimizers/custom_graph_optimizer_registry.cc:114] Plugin optimizer for device_type CPU is enabled.\n"
     ]
    },
    {
     "name": "stdout",
     "output_type": "stream",
     "text": [
      "22/22 [==============================] - 0s 12ms/step - loss: 0.0021 - accuracy: 1.0000 - val_loss: 2.8983 - val_accuracy: 0.5395\n",
      "Epoch 41/100\n",
      "15/22 [===================>..........] - ETA: 0s - loss: 0.0017 - accuracy: 1.0000"
     ]
    },
    {
     "name": "stderr",
     "output_type": "stream",
     "text": [
      "2023-08-10 21:48:31.804093: I tensorflow/core/grappler/optimizers/custom_graph_optimizer_registry.cc:114] Plugin optimizer for device_type CPU is enabled.\n",
      "2023-08-10 21:48:31.812678: I tensorflow/core/grappler/optimizers/custom_graph_optimizer_registry.cc:114] Plugin optimizer for device_type CPU is enabled.\n",
      "2023-08-10 21:48:31.826180: I tensorflow/core/grappler/optimizers/custom_graph_optimizer_registry.cc:114] Plugin optimizer for device_type CPU is enabled.\n"
     ]
    },
    {
     "name": "stdout",
     "output_type": "stream",
     "text": [
      "22/22 [==============================] - 0s 12ms/step - loss: 0.0019 - accuracy: 1.0000 - val_loss: 2.9702 - val_accuracy: 0.5395\n",
      "Epoch 42/100\n",
      " 8/22 [=========>....................] - ETA: 0s - loss: 0.0018 - accuracy: 1.0000"
     ]
    },
    {
     "name": "stderr",
     "output_type": "stream",
     "text": [
      "2023-08-10 21:48:32.068935: I tensorflow/core/grappler/optimizers/custom_graph_optimizer_registry.cc:114] Plugin optimizer for device_type CPU is enabled.\n",
      "2023-08-10 21:48:32.077625: I tensorflow/core/grappler/optimizers/custom_graph_optimizer_registry.cc:114] Plugin optimizer for device_type CPU is enabled.\n",
      "2023-08-10 21:48:32.091060: I tensorflow/core/grappler/optimizers/custom_graph_optimizer_registry.cc:114] Plugin optimizer for device_type CPU is enabled.\n"
     ]
    },
    {
     "name": "stdout",
     "output_type": "stream",
     "text": [
      "22/22 [==============================] - 0s 12ms/step - loss: 0.0017 - accuracy: 1.0000 - val_loss: 2.9881 - val_accuracy: 0.5395\n",
      "Epoch 43/100\n",
      "15/22 [===================>..........] - ETA: 0s - loss: 0.0015 - accuracy: 1.0000"
     ]
    },
    {
     "name": "stderr",
     "output_type": "stream",
     "text": [
      "2023-08-10 21:48:32.345987: I tensorflow/core/grappler/optimizers/custom_graph_optimizer_registry.cc:114] Plugin optimizer for device_type CPU is enabled.\n",
      "2023-08-10 21:48:32.354506: I tensorflow/core/grappler/optimizers/custom_graph_optimizer_registry.cc:114] Plugin optimizer for device_type CPU is enabled.\n",
      "2023-08-10 21:48:32.367968: I tensorflow/core/grappler/optimizers/custom_graph_optimizer_registry.cc:114] Plugin optimizer for device_type CPU is enabled.\n"
     ]
    },
    {
     "name": "stdout",
     "output_type": "stream",
     "text": [
      "22/22 [==============================] - 0s 12ms/step - loss: 0.0016 - accuracy: 1.0000 - val_loss: 3.0251 - val_accuracy: 0.5395\n",
      "Epoch 44/100\n",
      " 8/22 [=========>....................] - ETA: 0s - loss: 0.0015 - accuracy: 1.0000"
     ]
    },
    {
     "name": "stderr",
     "output_type": "stream",
     "text": [
      "2023-08-10 21:48:32.607499: I tensorflow/core/grappler/optimizers/custom_graph_optimizer_registry.cc:114] Plugin optimizer for device_type CPU is enabled.\n",
      "2023-08-10 21:48:32.616221: I tensorflow/core/grappler/optimizers/custom_graph_optimizer_registry.cc:114] Plugin optimizer for device_type CPU is enabled.\n",
      "2023-08-10 21:48:32.630052: I tensorflow/core/grappler/optimizers/custom_graph_optimizer_registry.cc:114] Plugin optimizer for device_type CPU is enabled.\n"
     ]
    },
    {
     "name": "stdout",
     "output_type": "stream",
     "text": [
      "22/22 [==============================] - 0s 12ms/step - loss: 0.0015 - accuracy: 1.0000 - val_loss: 3.0347 - val_accuracy: 0.5395\n",
      "Epoch 45/100\n",
      "14/22 [==================>...........] - ETA: 0s - loss: 0.0011 - accuracy: 1.0000"
     ]
    },
    {
     "name": "stderr",
     "output_type": "stream",
     "text": [
      "2023-08-10 21:48:32.885635: I tensorflow/core/grappler/optimizers/custom_graph_optimizer_registry.cc:114] Plugin optimizer for device_type CPU is enabled.\n",
      "2023-08-10 21:48:32.894362: I tensorflow/core/grappler/optimizers/custom_graph_optimizer_registry.cc:114] Plugin optimizer for device_type CPU is enabled.\n",
      "2023-08-10 21:48:32.908042: I tensorflow/core/grappler/optimizers/custom_graph_optimizer_registry.cc:114] Plugin optimizer for device_type CPU is enabled.\n"
     ]
    },
    {
     "name": "stdout",
     "output_type": "stream",
     "text": [
      "22/22 [==============================] - 0s 12ms/step - loss: 0.0013 - accuracy: 1.0000 - val_loss: 3.0738 - val_accuracy: 0.5395\n",
      "Epoch 46/100\n",
      " 8/22 [=========>....................] - ETA: 0s - loss: 0.0013 - accuracy: 1.0000"
     ]
    },
    {
     "name": "stderr",
     "output_type": "stream",
     "text": [
      "2023-08-10 21:48:33.156625: I tensorflow/core/grappler/optimizers/custom_graph_optimizer_registry.cc:114] Plugin optimizer for device_type CPU is enabled.\n",
      "2023-08-10 21:48:33.165262: I tensorflow/core/grappler/optimizers/custom_graph_optimizer_registry.cc:114] Plugin optimizer for device_type CPU is enabled.\n",
      "2023-08-10 21:48:33.178685: I tensorflow/core/grappler/optimizers/custom_graph_optimizer_registry.cc:114] Plugin optimizer for device_type CPU is enabled.\n"
     ]
    },
    {
     "name": "stdout",
     "output_type": "stream",
     "text": [
      "22/22 [==============================] - 0s 11ms/step - loss: 0.0013 - accuracy: 1.0000 - val_loss: 3.1189 - val_accuracy: 0.5395\n",
      "Epoch 47/100\n",
      "16/22 [====================>.........] - ETA: 0s - loss: 0.0013 - accuracy: 1.0000  "
     ]
    },
    {
     "name": "stderr",
     "output_type": "stream",
     "text": [
      "2023-08-10 21:48:33.450333: I tensorflow/core/grappler/optimizers/custom_graph_optimizer_registry.cc:114] Plugin optimizer for device_type CPU is enabled.\n",
      "2023-08-10 21:48:33.458747: I tensorflow/core/grappler/optimizers/custom_graph_optimizer_registry.cc:114] Plugin optimizer for device_type CPU is enabled.\n",
      "2023-08-10 21:48:33.472247: I tensorflow/core/grappler/optimizers/custom_graph_optimizer_registry.cc:114] Plugin optimizer for device_type CPU is enabled.\n"
     ]
    },
    {
     "name": "stdout",
     "output_type": "stream",
     "text": [
      "22/22 [==============================] - 0s 12ms/step - loss: 0.0012 - accuracy: 1.0000 - val_loss: 3.0985 - val_accuracy: 0.5395\n",
      "Epoch 48/100\n",
      "15/22 [===================>..........] - ETA: 0s - loss: 9.8875e-04 - accuracy: 1.0000"
     ]
    },
    {
     "name": "stderr",
     "output_type": "stream",
     "text": [
      "2023-08-10 21:48:33.703949: I tensorflow/core/grappler/optimizers/custom_graph_optimizer_registry.cc:114] Plugin optimizer for device_type CPU is enabled.\n",
      "2023-08-10 21:48:33.712563: I tensorflow/core/grappler/optimizers/custom_graph_optimizer_registry.cc:114] Plugin optimizer for device_type CPU is enabled.\n",
      "2023-08-10 21:48:33.726114: I tensorflow/core/grappler/optimizers/custom_graph_optimizer_registry.cc:114] Plugin optimizer for device_type CPU is enabled.\n"
     ]
    },
    {
     "name": "stdout",
     "output_type": "stream",
     "text": [
      "22/22 [==============================] - 0s 12ms/step - loss: 0.0011 - accuracy: 1.0000 - val_loss: 3.1435 - val_accuracy: 0.5395\n",
      "Epoch 49/100\n",
      "13/22 [================>.............] - ETA: 0s - loss: 9.8330e-04 - accuracy: 1.0000"
     ]
    },
    {
     "name": "stderr",
     "output_type": "stream",
     "text": [
      "2023-08-10 21:48:33.973430: I tensorflow/core/grappler/optimizers/custom_graph_optimizer_registry.cc:114] Plugin optimizer for device_type CPU is enabled.\n",
      "2023-08-10 21:48:33.982058: I tensorflow/core/grappler/optimizers/custom_graph_optimizer_registry.cc:114] Plugin optimizer for device_type CPU is enabled.\n",
      "2023-08-10 21:48:33.995480: I tensorflow/core/grappler/optimizers/custom_graph_optimizer_registry.cc:114] Plugin optimizer for device_type CPU is enabled.\n"
     ]
    },
    {
     "name": "stdout",
     "output_type": "stream",
     "text": [
      "22/22 [==============================] - 0s 12ms/step - loss: 0.0010 - accuracy: 1.0000 - val_loss: 3.1523 - val_accuracy: 0.5395\n",
      "Epoch 50/100\n",
      "14/22 [==================>...........] - ETA: 0s - loss: 9.3413e-04 - accuracy: 1.0000"
     ]
    },
    {
     "name": "stderr",
     "output_type": "stream",
     "text": [
      "2023-08-10 21:48:34.256393: I tensorflow/core/grappler/optimizers/custom_graph_optimizer_registry.cc:114] Plugin optimizer for device_type CPU is enabled.\n",
      "2023-08-10 21:48:34.264885: I tensorflow/core/grappler/optimizers/custom_graph_optimizer_registry.cc:114] Plugin optimizer for device_type CPU is enabled.\n",
      "2023-08-10 21:48:34.278342: I tensorflow/core/grappler/optimizers/custom_graph_optimizer_registry.cc:114] Plugin optimizer for device_type CPU is enabled.\n"
     ]
    },
    {
     "name": "stdout",
     "output_type": "stream",
     "text": [
      "22/22 [==============================] - 0s 12ms/step - loss: 9.7894e-04 - accuracy: 1.0000 - val_loss: 3.1950 - val_accuracy: 0.5395\n",
      "Epoch 51/100\n",
      "13/22 [================>.............] - ETA: 0s - loss: 8.6641e-04 - accuracy: 1.0000"
     ]
    },
    {
     "name": "stderr",
     "output_type": "stream",
     "text": [
      "2023-08-10 21:48:34.519226: I tensorflow/core/grappler/optimizers/custom_graph_optimizer_registry.cc:114] Plugin optimizer for device_type CPU is enabled.\n",
      "2023-08-10 21:48:34.528066: I tensorflow/core/grappler/optimizers/custom_graph_optimizer_registry.cc:114] Plugin optimizer for device_type CPU is enabled.\n",
      "2023-08-10 21:48:34.541563: I tensorflow/core/grappler/optimizers/custom_graph_optimizer_registry.cc:114] Plugin optimizer for device_type CPU is enabled.\n"
     ]
    },
    {
     "name": "stdout",
     "output_type": "stream",
     "text": [
      "22/22 [==============================] - 0s 13ms/step - loss: 9.3631e-04 - accuracy: 1.0000 - val_loss: 3.2121 - val_accuracy: 0.5395\n",
      "Epoch 52/100\n",
      "15/22 [===================>..........] - ETA: 0s - loss: 9.7426e-04 - accuracy: 1.0000"
     ]
    },
    {
     "name": "stderr",
     "output_type": "stream",
     "text": [
      "2023-08-10 21:48:34.804414: I tensorflow/core/grappler/optimizers/custom_graph_optimizer_registry.cc:114] Plugin optimizer for device_type CPU is enabled.\n",
      "2023-08-10 21:48:34.812477: I tensorflow/core/grappler/optimizers/custom_graph_optimizer_registry.cc:114] Plugin optimizer for device_type CPU is enabled.\n",
      "2023-08-10 21:48:34.825648: I tensorflow/core/grappler/optimizers/custom_graph_optimizer_registry.cc:114] Plugin optimizer for device_type CPU is enabled.\n"
     ]
    },
    {
     "name": "stdout",
     "output_type": "stream",
     "text": [
      "22/22 [==============================] - 0s 12ms/step - loss: 9.0787e-04 - accuracy: 1.0000 - val_loss: 3.2231 - val_accuracy: 0.5395\n",
      "Epoch 53/100\n",
      "15/22 [===================>..........] - ETA: 0s - loss: 9.0496e-04 - accuracy: 1.0000"
     ]
    },
    {
     "name": "stderr",
     "output_type": "stream",
     "text": [
      "2023-08-10 21:48:35.068528: I tensorflow/core/grappler/optimizers/custom_graph_optimizer_registry.cc:114] Plugin optimizer for device_type CPU is enabled.\n",
      "2023-08-10 21:48:35.076983: I tensorflow/core/grappler/optimizers/custom_graph_optimizer_registry.cc:114] Plugin optimizer for device_type CPU is enabled.\n",
      "2023-08-10 21:48:35.090540: I tensorflow/core/grappler/optimizers/custom_graph_optimizer_registry.cc:114] Plugin optimizer for device_type CPU is enabled.\n"
     ]
    },
    {
     "name": "stdout",
     "output_type": "stream",
     "text": [
      "22/22 [==============================] - 0s 12ms/step - loss: 8.4399e-04 - accuracy: 1.0000 - val_loss: 3.2321 - val_accuracy: 0.5395\n",
      "Epoch 54/100\n",
      "15/22 [===================>..........] - ETA: 0s - loss: 7.5793e-04 - accuracy: 1.0000"
     ]
    },
    {
     "name": "stderr",
     "output_type": "stream",
     "text": [
      "2023-08-10 21:48:35.338226: I tensorflow/core/grappler/optimizers/custom_graph_optimizer_registry.cc:114] Plugin optimizer for device_type CPU is enabled.\n",
      "2023-08-10 21:48:35.346824: I tensorflow/core/grappler/optimizers/custom_graph_optimizer_registry.cc:114] Plugin optimizer for device_type CPU is enabled.\n",
      "2023-08-10 21:48:35.360538: I tensorflow/core/grappler/optimizers/custom_graph_optimizer_registry.cc:114] Plugin optimizer for device_type CPU is enabled.\n"
     ]
    },
    {
     "name": "stdout",
     "output_type": "stream",
     "text": [
      "22/22 [==============================] - 0s 12ms/step - loss: 7.8361e-04 - accuracy: 1.0000 - val_loss: 3.2821 - val_accuracy: 0.5395\n",
      "Epoch 55/100\n",
      "13/22 [================>.............] - ETA: 0s - loss: 6.6591e-04 - accuracy: 1.0000"
     ]
    },
    {
     "name": "stderr",
     "output_type": "stream",
     "text": [
      "2023-08-10 21:48:35.610906: I tensorflow/core/grappler/optimizers/custom_graph_optimizer_registry.cc:114] Plugin optimizer for device_type CPU is enabled.\n",
      "2023-08-10 21:48:35.619441: I tensorflow/core/grappler/optimizers/custom_graph_optimizer_registry.cc:114] Plugin optimizer for device_type CPU is enabled.\n",
      "2023-08-10 21:48:35.633098: I tensorflow/core/grappler/optimizers/custom_graph_optimizer_registry.cc:114] Plugin optimizer for device_type CPU is enabled.\n"
     ]
    },
    {
     "name": "stdout",
     "output_type": "stream",
     "text": [
      "22/22 [==============================] - 0s 13ms/step - loss: 7.6020e-04 - accuracy: 1.0000 - val_loss: 3.2738 - val_accuracy: 0.5395\n",
      "Epoch 56/100\n",
      "13/22 [================>.............] - ETA: 0s - loss: 6.7265e-04 - accuracy: 1.0000"
     ]
    },
    {
     "name": "stderr",
     "output_type": "stream",
     "text": [
      "2023-08-10 21:48:35.895283: I tensorflow/core/grappler/optimizers/custom_graph_optimizer_registry.cc:114] Plugin optimizer for device_type CPU is enabled.\n",
      "2023-08-10 21:48:35.903733: I tensorflow/core/grappler/optimizers/custom_graph_optimizer_registry.cc:114] Plugin optimizer for device_type CPU is enabled.\n",
      "2023-08-10 21:48:35.917264: I tensorflow/core/grappler/optimizers/custom_graph_optimizer_registry.cc:114] Plugin optimizer for device_type CPU is enabled.\n"
     ]
    },
    {
     "name": "stdout",
     "output_type": "stream",
     "text": [
      "22/22 [==============================] - 0s 13ms/step - loss: 7.2455e-04 - accuracy: 1.0000 - val_loss: 3.3024 - val_accuracy: 0.5395\n",
      "Epoch 57/100\n",
      "13/22 [================>.............] - ETA: 0s - loss: 6.6868e-04 - accuracy: 1.0000"
     ]
    },
    {
     "name": "stderr",
     "output_type": "stream",
     "text": [
      "2023-08-10 21:48:36.174040: I tensorflow/core/grappler/optimizers/custom_graph_optimizer_registry.cc:114] Plugin optimizer for device_type CPU is enabled.\n",
      "2023-08-10 21:48:36.182605: I tensorflow/core/grappler/optimizers/custom_graph_optimizer_registry.cc:114] Plugin optimizer for device_type CPU is enabled.\n",
      "2023-08-10 21:48:36.196248: I tensorflow/core/grappler/optimizers/custom_graph_optimizer_registry.cc:114] Plugin optimizer for device_type CPU is enabled.\n"
     ]
    },
    {
     "name": "stdout",
     "output_type": "stream",
     "text": [
      "22/22 [==============================] - 0s 13ms/step - loss: 6.8586e-04 - accuracy: 1.0000 - val_loss: 3.3072 - val_accuracy: 0.5395\n",
      "Epoch 58/100\n",
      "15/22 [===================>..........] - ETA: 0s - loss: 6.5855e-04 - accuracy: 1.0000"
     ]
    },
    {
     "name": "stderr",
     "output_type": "stream",
     "text": [
      "2023-08-10 21:48:36.452656: I tensorflow/core/grappler/optimizers/custom_graph_optimizer_registry.cc:114] Plugin optimizer for device_type CPU is enabled.\n",
      "2023-08-10 21:48:36.460869: I tensorflow/core/grappler/optimizers/custom_graph_optimizer_registry.cc:114] Plugin optimizer for device_type CPU is enabled.\n",
      "2023-08-10 21:48:36.474410: I tensorflow/core/grappler/optimizers/custom_graph_optimizer_registry.cc:114] Plugin optimizer for device_type CPU is enabled.\n"
     ]
    },
    {
     "name": "stdout",
     "output_type": "stream",
     "text": [
      "22/22 [==============================] - 0s 14ms/step - loss: 6.5542e-04 - accuracy: 1.0000 - val_loss: 3.3319 - val_accuracy: 0.5395\n",
      "Epoch 59/100\n",
      "15/22 [===================>..........] - ETA: 0s - loss: 6.7715e-04 - accuracy: 1.0000"
     ]
    },
    {
     "name": "stderr",
     "output_type": "stream",
     "text": [
      "2023-08-10 21:48:36.766237: I tensorflow/core/grappler/optimizers/custom_graph_optimizer_registry.cc:114] Plugin optimizer for device_type CPU is enabled.\n",
      "2023-08-10 21:48:36.774742: I tensorflow/core/grappler/optimizers/custom_graph_optimizer_registry.cc:114] Plugin optimizer for device_type CPU is enabled.\n",
      "2023-08-10 21:48:36.788210: I tensorflow/core/grappler/optimizers/custom_graph_optimizer_registry.cc:114] Plugin optimizer for device_type CPU is enabled.\n"
     ]
    },
    {
     "name": "stdout",
     "output_type": "stream",
     "text": [
      "22/22 [==============================] - 0s 13ms/step - loss: 6.2886e-04 - accuracy: 1.0000 - val_loss: 3.3510 - val_accuracy: 0.5395\n",
      "Epoch 60/100\n",
      "14/22 [==================>...........] - ETA: 0s - loss: 5.9427e-04 - accuracy: 1.0000"
     ]
    },
    {
     "name": "stderr",
     "output_type": "stream",
     "text": [
      "2023-08-10 21:48:37.042734: I tensorflow/core/grappler/optimizers/custom_graph_optimizer_registry.cc:114] Plugin optimizer for device_type CPU is enabled.\n",
      "2023-08-10 21:48:37.051429: I tensorflow/core/grappler/optimizers/custom_graph_optimizer_registry.cc:114] Plugin optimizer for device_type CPU is enabled.\n",
      "2023-08-10 21:48:37.065112: I tensorflow/core/grappler/optimizers/custom_graph_optimizer_registry.cc:114] Plugin optimizer for device_type CPU is enabled.\n"
     ]
    },
    {
     "name": "stdout",
     "output_type": "stream",
     "text": [
      "22/22 [==============================] - 0s 13ms/step - loss: 5.9725e-04 - accuracy: 1.0000 - val_loss: 3.3822 - val_accuracy: 0.5395\n",
      "Epoch 61/100\n",
      " 8/22 [=========>....................] - ETA: 0s - loss: 5.8309e-04 - accuracy: 1.0000"
     ]
    },
    {
     "name": "stderr",
     "output_type": "stream",
     "text": [
      "2023-08-10 21:48:37.344823: I tensorflow/core/grappler/optimizers/custom_graph_optimizer_registry.cc:114] Plugin optimizer for device_type CPU is enabled.\n",
      "2023-08-10 21:48:37.353435: I tensorflow/core/grappler/optimizers/custom_graph_optimizer_registry.cc:114] Plugin optimizer for device_type CPU is enabled.\n",
      "2023-08-10 21:48:37.367222: I tensorflow/core/grappler/optimizers/custom_graph_optimizer_registry.cc:114] Plugin optimizer for device_type CPU is enabled.\n"
     ]
    },
    {
     "name": "stdout",
     "output_type": "stream",
     "text": [
      "22/22 [==============================] - 0s 12ms/step - loss: 5.7842e-04 - accuracy: 1.0000 - val_loss: 3.3800 - val_accuracy: 0.5395\n",
      "Epoch 62/100\n",
      "13/22 [================>.............] - ETA: 0s - loss: 5.0147e-04 - accuracy: 1.0000"
     ]
    },
    {
     "name": "stderr",
     "output_type": "stream",
     "text": [
      "2023-08-10 21:48:37.631308: I tensorflow/core/grappler/optimizers/custom_graph_optimizer_registry.cc:114] Plugin optimizer for device_type CPU is enabled.\n",
      "2023-08-10 21:48:37.639782: I tensorflow/core/grappler/optimizers/custom_graph_optimizer_registry.cc:114] Plugin optimizer for device_type CPU is enabled.\n",
      "2023-08-10 21:48:37.653502: I tensorflow/core/grappler/optimizers/custom_graph_optimizer_registry.cc:114] Plugin optimizer for device_type CPU is enabled.\n"
     ]
    },
    {
     "name": "stdout",
     "output_type": "stream",
     "text": [
      "22/22 [==============================] - 0s 13ms/step - loss: 5.5530e-04 - accuracy: 1.0000 - val_loss: 3.4041 - val_accuracy: 0.5395\n",
      "Epoch 63/100\n",
      "15/22 [===================>..........] - ETA: 0s - loss: 6.0507e-04 - accuracy: 1.0000"
     ]
    },
    {
     "name": "stderr",
     "output_type": "stream",
     "text": [
      "2023-08-10 21:48:37.912526: I tensorflow/core/grappler/optimizers/custom_graph_optimizer_registry.cc:114] Plugin optimizer for device_type CPU is enabled.\n",
      "2023-08-10 21:48:37.920692: I tensorflow/core/grappler/optimizers/custom_graph_optimizer_registry.cc:114] Plugin optimizer for device_type CPU is enabled.\n",
      "2023-08-10 21:48:37.934184: I tensorflow/core/grappler/optimizers/custom_graph_optimizer_registry.cc:114] Plugin optimizer for device_type CPU is enabled.\n"
     ]
    },
    {
     "name": "stdout",
     "output_type": "stream",
     "text": [
      "22/22 [==============================] - 0s 13ms/step - loss: 5.2745e-04 - accuracy: 1.0000 - val_loss: 3.4127 - val_accuracy: 0.5395\n",
      "Epoch 64/100\n",
      "14/22 [==================>...........] - ETA: 0s - loss: 5.0532e-04 - accuracy: 1.0000"
     ]
    },
    {
     "name": "stderr",
     "output_type": "stream",
     "text": [
      "2023-08-10 21:48:38.188800: I tensorflow/core/grappler/optimizers/custom_graph_optimizer_registry.cc:114] Plugin optimizer for device_type CPU is enabled.\n",
      "2023-08-10 21:48:38.197616: I tensorflow/core/grappler/optimizers/custom_graph_optimizer_registry.cc:114] Plugin optimizer for device_type CPU is enabled.\n",
      "2023-08-10 21:48:38.211187: I tensorflow/core/grappler/optimizers/custom_graph_optimizer_registry.cc:114] Plugin optimizer for device_type CPU is enabled.\n"
     ]
    },
    {
     "name": "stdout",
     "output_type": "stream",
     "text": [
      "22/22 [==============================] - 0s 13ms/step - loss: 5.0739e-04 - accuracy: 1.0000 - val_loss: 3.4272 - val_accuracy: 0.5395\n",
      "Epoch 65/100\n",
      "14/22 [==================>...........] - ETA: 0s - loss: 4.9782e-04 - accuracy: 1.0000"
     ]
    },
    {
     "name": "stderr",
     "output_type": "stream",
     "text": [
      "2023-08-10 21:48:38.470057: I tensorflow/core/grappler/optimizers/custom_graph_optimizer_registry.cc:114] Plugin optimizer for device_type CPU is enabled.\n",
      "2023-08-10 21:48:38.479161: I tensorflow/core/grappler/optimizers/custom_graph_optimizer_registry.cc:114] Plugin optimizer for device_type CPU is enabled.\n",
      "2023-08-10 21:48:38.493345: I tensorflow/core/grappler/optimizers/custom_graph_optimizer_registry.cc:114] Plugin optimizer for device_type CPU is enabled.\n"
     ]
    },
    {
     "name": "stdout",
     "output_type": "stream",
     "text": [
      "22/22 [==============================] - 0s 13ms/step - loss: 4.8330e-04 - accuracy: 1.0000 - val_loss: 3.4432 - val_accuracy: 0.5395\n",
      "Epoch 66/100\n",
      "13/22 [================>.............] - ETA: 0s - loss: 4.8770e-04 - accuracy: 1.0000"
     ]
    },
    {
     "name": "stderr",
     "output_type": "stream",
     "text": [
      "2023-08-10 21:48:38.749755: I tensorflow/core/grappler/optimizers/custom_graph_optimizer_registry.cc:114] Plugin optimizer for device_type CPU is enabled.\n",
      "2023-08-10 21:48:38.758116: I tensorflow/core/grappler/optimizers/custom_graph_optimizer_registry.cc:114] Plugin optimizer for device_type CPU is enabled.\n",
      "2023-08-10 21:48:38.771752: I tensorflow/core/grappler/optimizers/custom_graph_optimizer_registry.cc:114] Plugin optimizer for device_type CPU is enabled.\n"
     ]
    },
    {
     "name": "stdout",
     "output_type": "stream",
     "text": [
      "22/22 [==============================] - 0s 13ms/step - loss: 4.6850e-04 - accuracy: 1.0000 - val_loss: 3.4474 - val_accuracy: 0.5395\n",
      "Epoch 67/100\n",
      "15/22 [===================>..........] - ETA: 0s - loss: 4.4118e-04 - accuracy: 1.0000"
     ]
    },
    {
     "name": "stderr",
     "output_type": "stream",
     "text": [
      "2023-08-10 21:48:39.037884: I tensorflow/core/grappler/optimizers/custom_graph_optimizer_registry.cc:114] Plugin optimizer for device_type CPU is enabled.\n",
      "2023-08-10 21:48:39.046996: I tensorflow/core/grappler/optimizers/custom_graph_optimizer_registry.cc:114] Plugin optimizer for device_type CPU is enabled.\n",
      "2023-08-10 21:48:39.060620: I tensorflow/core/grappler/optimizers/custom_graph_optimizer_registry.cc:114] Plugin optimizer for device_type CPU is enabled.\n"
     ]
    },
    {
     "name": "stdout",
     "output_type": "stream",
     "text": [
      "22/22 [==============================] - 0s 18ms/step - loss: 4.4638e-04 - accuracy: 1.0000 - val_loss: 3.4690 - val_accuracy: 0.5395\n",
      "Epoch 68/100\n",
      " 2/22 [=>............................] - ETA: 1s - loss: 4.0959e-04 - accuracy: 1.0000"
     ]
    },
    {
     "name": "stderr",
     "output_type": "stream",
     "text": [
      "2023-08-10 21:48:39.415748: I tensorflow/core/grappler/optimizers/custom_graph_optimizer_registry.cc:114] Plugin optimizer for device_type CPU is enabled.\n",
      "2023-08-10 21:48:39.424459: I tensorflow/core/grappler/optimizers/custom_graph_optimizer_registry.cc:114] Plugin optimizer for device_type CPU is enabled.\n",
      "2023-08-10 21:48:39.438176: I tensorflow/core/grappler/optimizers/custom_graph_optimizer_registry.cc:114] Plugin optimizer for device_type CPU is enabled.\n"
     ]
    },
    {
     "name": "stdout",
     "output_type": "stream",
     "text": [
      "22/22 [==============================] - 1s 23ms/step - loss: 4.3354e-04 - accuracy: 1.0000 - val_loss: 3.4789 - val_accuracy: 0.5395\n",
      "Epoch 69/100\n",
      "12/22 [===============>..............] - ETA: 0s - loss: 4.4097e-04 - accuracy: 1.0000"
     ]
    },
    {
     "name": "stderr",
     "output_type": "stream",
     "text": [
      "2023-08-10 21:48:39.955085: I tensorflow/core/grappler/optimizers/custom_graph_optimizer_registry.cc:114] Plugin optimizer for device_type CPU is enabled.\n",
      "2023-08-10 21:48:39.963789: I tensorflow/core/grappler/optimizers/custom_graph_optimizer_registry.cc:114] Plugin optimizer for device_type CPU is enabled.\n",
      "2023-08-10 21:48:39.977398: I tensorflow/core/grappler/optimizers/custom_graph_optimizer_registry.cc:114] Plugin optimizer for device_type CPU is enabled.\n"
     ]
    },
    {
     "name": "stdout",
     "output_type": "stream",
     "text": [
      "22/22 [==============================] - 0s 13ms/step - loss: 4.1648e-04 - accuracy: 1.0000 - val_loss: 3.5021 - val_accuracy: 0.5395\n",
      "Epoch 70/100\n",
      " 8/22 [=========>....................] - ETA: 0s - loss: 4.7092e-04 - accuracy: 1.0000"
     ]
    },
    {
     "name": "stderr",
     "output_type": "stream",
     "text": [
      "2023-08-10 21:48:40.245805: I tensorflow/core/grappler/optimizers/custom_graph_optimizer_registry.cc:114] Plugin optimizer for device_type CPU is enabled.\n",
      "2023-08-10 21:48:40.254330: I tensorflow/core/grappler/optimizers/custom_graph_optimizer_registry.cc:114] Plugin optimizer for device_type CPU is enabled.\n",
      "2023-08-10 21:48:40.267682: I tensorflow/core/grappler/optimizers/custom_graph_optimizer_registry.cc:114] Plugin optimizer for device_type CPU is enabled.\n"
     ]
    },
    {
     "name": "stdout",
     "output_type": "stream",
     "text": [
      "22/22 [==============================] - 0s 13ms/step - loss: 4.0139e-04 - accuracy: 1.0000 - val_loss: 3.4903 - val_accuracy: 0.5395\n",
      "Epoch 71/100\n",
      "13/22 [================>.............] - ETA: 0s - loss: 4.1268e-04 - accuracy: 1.0000"
     ]
    },
    {
     "name": "stderr",
     "output_type": "stream",
     "text": [
      "2023-08-10 21:48:40.538828: I tensorflow/core/grappler/optimizers/custom_graph_optimizer_registry.cc:114] Plugin optimizer for device_type CPU is enabled.\n",
      "2023-08-10 21:48:40.547694: I tensorflow/core/grappler/optimizers/custom_graph_optimizer_registry.cc:114] Plugin optimizer for device_type CPU is enabled.\n",
      "2023-08-10 21:48:40.561315: I tensorflow/core/grappler/optimizers/custom_graph_optimizer_registry.cc:114] Plugin optimizer for device_type CPU is enabled.\n"
     ]
    },
    {
     "name": "stdout",
     "output_type": "stream",
     "text": [
      "22/22 [==============================] - 0s 13ms/step - loss: 3.8784e-04 - accuracy: 1.0000 - val_loss: 3.5305 - val_accuracy: 0.5395\n",
      "Epoch 72/100\n",
      "13/22 [================>.............] - ETA: 0s - loss: 3.2688e-04 - accuracy: 1.0000"
     ]
    },
    {
     "name": "stderr",
     "output_type": "stream",
     "text": [
      "2023-08-10 21:48:40.820069: I tensorflow/core/grappler/optimizers/custom_graph_optimizer_registry.cc:114] Plugin optimizer for device_type CPU is enabled.\n",
      "2023-08-10 21:48:40.828809: I tensorflow/core/grappler/optimizers/custom_graph_optimizer_registry.cc:114] Plugin optimizer for device_type CPU is enabled.\n",
      "2023-08-10 21:48:40.842362: I tensorflow/core/grappler/optimizers/custom_graph_optimizer_registry.cc:114] Plugin optimizer for device_type CPU is enabled.\n"
     ]
    },
    {
     "name": "stdout",
     "output_type": "stream",
     "text": [
      "22/22 [==============================] - 0s 12ms/step - loss: 3.7997e-04 - accuracy: 1.0000 - val_loss: 3.5311 - val_accuracy: 0.5395\n",
      "Epoch 73/100\n",
      "15/22 [===================>..........] - ETA: 0s - loss: 3.5440e-04 - accuracy: 1.0000"
     ]
    },
    {
     "name": "stderr",
     "output_type": "stream",
     "text": [
      "2023-08-10 21:48:41.098612: I tensorflow/core/grappler/optimizers/custom_graph_optimizer_registry.cc:114] Plugin optimizer for device_type CPU is enabled.\n",
      "2023-08-10 21:48:41.107250: I tensorflow/core/grappler/optimizers/custom_graph_optimizer_registry.cc:114] Plugin optimizer for device_type CPU is enabled.\n",
      "2023-08-10 21:48:41.120716: I tensorflow/core/grappler/optimizers/custom_graph_optimizer_registry.cc:114] Plugin optimizer for device_type CPU is enabled.\n"
     ]
    },
    {
     "name": "stdout",
     "output_type": "stream",
     "text": [
      "22/22 [==============================] - 0s 13ms/step - loss: 3.6357e-04 - accuracy: 1.0000 - val_loss: 3.5482 - val_accuracy: 0.5395\n",
      "Epoch 74/100\n",
      " 7/22 [========>.....................] - ETA: 0s - loss: 3.9001e-04 - accuracy: 1.0000"
     ]
    },
    {
     "name": "stderr",
     "output_type": "stream",
     "text": [
      "2023-08-10 21:48:41.390873: I tensorflow/core/grappler/optimizers/custom_graph_optimizer_registry.cc:114] Plugin optimizer for device_type CPU is enabled.\n",
      "2023-08-10 21:48:41.399641: I tensorflow/core/grappler/optimizers/custom_graph_optimizer_registry.cc:114] Plugin optimizer for device_type CPU is enabled.\n",
      "2023-08-10 21:48:41.413068: I tensorflow/core/grappler/optimizers/custom_graph_optimizer_registry.cc:114] Plugin optimizer for device_type CPU is enabled.\n"
     ]
    },
    {
     "name": "stdout",
     "output_type": "stream",
     "text": [
      "22/22 [==============================] - 0s 14ms/step - loss: 3.5211e-04 - accuracy: 1.0000 - val_loss: 3.5585 - val_accuracy: 0.5395\n",
      "Epoch 75/100\n",
      "13/22 [================>.............] - ETA: 0s - loss: 3.5352e-04 - accuracy: 1.0000"
     ]
    },
    {
     "name": "stderr",
     "output_type": "stream",
     "text": [
      "2023-08-10 21:48:41.690874: I tensorflow/core/grappler/optimizers/custom_graph_optimizer_registry.cc:114] Plugin optimizer for device_type CPU is enabled.\n",
      "2023-08-10 21:48:41.707114: I tensorflow/core/grappler/optimizers/custom_graph_optimizer_registry.cc:114] Plugin optimizer for device_type CPU is enabled.\n",
      "2023-08-10 21:48:41.721849: I tensorflow/core/grappler/optimizers/custom_graph_optimizer_registry.cc:114] Plugin optimizer for device_type CPU is enabled.\n"
     ]
    },
    {
     "name": "stdout",
     "output_type": "stream",
     "text": [
      "22/22 [==============================] - 0s 13ms/step - loss: 3.3996e-04 - accuracy: 1.0000 - val_loss: 3.5776 - val_accuracy: 0.5395\n",
      "Epoch 76/100\n",
      "16/22 [====================>.........] - ETA: 0s - loss: 3.0579e-04 - accuracy: 1.0000"
     ]
    },
    {
     "name": "stderr",
     "output_type": "stream",
     "text": [
      "2023-08-10 21:48:41.988998: I tensorflow/core/grappler/optimizers/custom_graph_optimizer_registry.cc:114] Plugin optimizer for device_type CPU is enabled.\n",
      "2023-08-10 21:48:41.998206: I tensorflow/core/grappler/optimizers/custom_graph_optimizer_registry.cc:114] Plugin optimizer for device_type CPU is enabled.\n",
      "2023-08-10 21:48:42.012080: I tensorflow/core/grappler/optimizers/custom_graph_optimizer_registry.cc:114] Plugin optimizer for device_type CPU is enabled.\n"
     ]
    },
    {
     "name": "stdout",
     "output_type": "stream",
     "text": [
      "22/22 [==============================] - 0s 12ms/step - loss: 3.2912e-04 - accuracy: 1.0000 - val_loss: 3.5831 - val_accuracy: 0.5395\n",
      "Epoch 77/100\n",
      "15/22 [===================>..........] - ETA: 0s - loss: 3.1874e-04 - accuracy: 1.0000"
     ]
    },
    {
     "name": "stderr",
     "output_type": "stream",
     "text": [
      "2023-08-10 21:48:42.253242: I tensorflow/core/grappler/optimizers/custom_graph_optimizer_registry.cc:114] Plugin optimizer for device_type CPU is enabled.\n",
      "2023-08-10 21:48:42.261923: I tensorflow/core/grappler/optimizers/custom_graph_optimizer_registry.cc:114] Plugin optimizer for device_type CPU is enabled.\n",
      "2023-08-10 21:48:42.275654: I tensorflow/core/grappler/optimizers/custom_graph_optimizer_registry.cc:114] Plugin optimizer for device_type CPU is enabled.\n"
     ]
    },
    {
     "name": "stdout",
     "output_type": "stream",
     "text": [
      "22/22 [==============================] - 0s 13ms/step - loss: 3.1639e-04 - accuracy: 1.0000 - val_loss: 3.5864 - val_accuracy: 0.5395\n",
      "Epoch 78/100\n",
      " 7/22 [========>.....................] - ETA: 0s - loss: 2.6681e-04 - accuracy: 1.0000"
     ]
    },
    {
     "name": "stderr",
     "output_type": "stream",
     "text": [
      "2023-08-10 21:48:42.534626: I tensorflow/core/grappler/optimizers/custom_graph_optimizer_registry.cc:114] Plugin optimizer for device_type CPU is enabled.\n",
      "2023-08-10 21:48:42.543488: I tensorflow/core/grappler/optimizers/custom_graph_optimizer_registry.cc:114] Plugin optimizer for device_type CPU is enabled.\n",
      "2023-08-10 21:48:42.557072: I tensorflow/core/grappler/optimizers/custom_graph_optimizer_registry.cc:114] Plugin optimizer for device_type CPU is enabled.\n"
     ]
    },
    {
     "name": "stdout",
     "output_type": "stream",
     "text": [
      "22/22 [==============================] - 0s 15ms/step - loss: 3.0773e-04 - accuracy: 1.0000 - val_loss: 3.6006 - val_accuracy: 0.5395\n",
      "Epoch 79/100\n",
      "13/22 [================>.............] - ETA: 0s - loss: 3.2407e-04 - accuracy: 1.0000"
     ]
    },
    {
     "name": "stderr",
     "output_type": "stream",
     "text": [
      "2023-08-10 21:48:42.867427: I tensorflow/core/grappler/optimizers/custom_graph_optimizer_registry.cc:114] Plugin optimizer for device_type CPU is enabled.\n",
      "2023-08-10 21:48:42.876069: I tensorflow/core/grappler/optimizers/custom_graph_optimizer_registry.cc:114] Plugin optimizer for device_type CPU is enabled.\n",
      "2023-08-10 21:48:42.889742: I tensorflow/core/grappler/optimizers/custom_graph_optimizer_registry.cc:114] Plugin optimizer for device_type CPU is enabled.\n"
     ]
    },
    {
     "name": "stdout",
     "output_type": "stream",
     "text": [
      "22/22 [==============================] - 0s 13ms/step - loss: 3.0115e-04 - accuracy: 1.0000 - val_loss: 3.6224 - val_accuracy: 0.5395\n",
      "Epoch 80/100\n",
      " 7/22 [========>.....................] - ETA: 0s - loss: 2.7872e-04 - accuracy: 1.0000"
     ]
    },
    {
     "name": "stderr",
     "output_type": "stream",
     "text": [
      "2023-08-10 21:48:43.161316: I tensorflow/core/grappler/optimizers/custom_graph_optimizer_registry.cc:114] Plugin optimizer for device_type CPU is enabled.\n",
      "2023-08-10 21:48:43.169773: I tensorflow/core/grappler/optimizers/custom_graph_optimizer_registry.cc:114] Plugin optimizer for device_type CPU is enabled.\n",
      "2023-08-10 21:48:43.183252: I tensorflow/core/grappler/optimizers/custom_graph_optimizer_registry.cc:114] Plugin optimizer for device_type CPU is enabled.\n"
     ]
    },
    {
     "name": "stdout",
     "output_type": "stream",
     "text": [
      "22/22 [==============================] - 0s 13ms/step - loss: 2.8897e-04 - accuracy: 1.0000 - val_loss: 3.6245 - val_accuracy: 0.5395\n",
      "Epoch 81/100\n",
      "12/22 [===============>..............] - ETA: 0s - loss: 2.5308e-04 - accuracy: 1.0000"
     ]
    },
    {
     "name": "stderr",
     "output_type": "stream",
     "text": [
      "2023-08-10 21:48:43.462922: I tensorflow/core/grappler/optimizers/custom_graph_optimizer_registry.cc:114] Plugin optimizer for device_type CPU is enabled.\n",
      "2023-08-10 21:48:43.471542: I tensorflow/core/grappler/optimizers/custom_graph_optimizer_registry.cc:114] Plugin optimizer for device_type CPU is enabled.\n",
      "2023-08-10 21:48:43.485294: I tensorflow/core/grappler/optimizers/custom_graph_optimizer_registry.cc:114] Plugin optimizer for device_type CPU is enabled.\n"
     ]
    },
    {
     "name": "stdout",
     "output_type": "stream",
     "text": [
      "22/22 [==============================] - 0s 13ms/step - loss: 2.8585e-04 - accuracy: 1.0000 - val_loss: 3.6364 - val_accuracy: 0.5395\n",
      "Epoch 82/100\n",
      "12/22 [===============>..............] - ETA: 0s - loss: 2.9765e-04 - accuracy: 1.0000"
     ]
    },
    {
     "name": "stderr",
     "output_type": "stream",
     "text": [
      "2023-08-10 21:48:43.762248: I tensorflow/core/grappler/optimizers/custom_graph_optimizer_registry.cc:114] Plugin optimizer for device_type CPU is enabled.\n",
      "2023-08-10 21:48:43.770364: I tensorflow/core/grappler/optimizers/custom_graph_optimizer_registry.cc:114] Plugin optimizer for device_type CPU is enabled.\n",
      "2023-08-10 21:48:43.783673: I tensorflow/core/grappler/optimizers/custom_graph_optimizer_registry.cc:114] Plugin optimizer for device_type CPU is enabled.\n"
     ]
    },
    {
     "name": "stdout",
     "output_type": "stream",
     "text": [
      "22/22 [==============================] - 0s 13ms/step - loss: 2.7193e-04 - accuracy: 1.0000 - val_loss: 3.6532 - val_accuracy: 0.5395\n",
      "Epoch 83/100\n",
      "12/22 [===============>..............] - ETA: 0s - loss: 2.5569e-04 - accuracy: 1.0000"
     ]
    },
    {
     "name": "stderr",
     "output_type": "stream",
     "text": [
      "2023-08-10 21:48:44.068084: I tensorflow/core/grappler/optimizers/custom_graph_optimizer_registry.cc:114] Plugin optimizer for device_type CPU is enabled.\n",
      "2023-08-10 21:48:44.076292: I tensorflow/core/grappler/optimizers/custom_graph_optimizer_registry.cc:114] Plugin optimizer for device_type CPU is enabled.\n",
      "2023-08-10 21:48:44.089623: I tensorflow/core/grappler/optimizers/custom_graph_optimizer_registry.cc:114] Plugin optimizer for device_type CPU is enabled.\n"
     ]
    },
    {
     "name": "stdout",
     "output_type": "stream",
     "text": [
      "22/22 [==============================] - 0s 14ms/step - loss: 2.6427e-04 - accuracy: 1.0000 - val_loss: 3.6532 - val_accuracy: 0.5395\n",
      "Epoch 84/100\n",
      "13/22 [================>.............] - ETA: 0s - loss: 2.5816e-04 - accuracy: 1.0000"
     ]
    },
    {
     "name": "stderr",
     "output_type": "stream",
     "text": [
      "2023-08-10 21:48:44.380724: I tensorflow/core/grappler/optimizers/custom_graph_optimizer_registry.cc:114] Plugin optimizer for device_type CPU is enabled.\n",
      "2023-08-10 21:48:44.389126: I tensorflow/core/grappler/optimizers/custom_graph_optimizer_registry.cc:114] Plugin optimizer for device_type CPU is enabled.\n",
      "2023-08-10 21:48:44.402850: I tensorflow/core/grappler/optimizers/custom_graph_optimizer_registry.cc:114] Plugin optimizer for device_type CPU is enabled.\n"
     ]
    },
    {
     "name": "stdout",
     "output_type": "stream",
     "text": [
      "22/22 [==============================] - 0s 14ms/step - loss: 2.6076e-04 - accuracy: 1.0000 - val_loss: 3.6708 - val_accuracy: 0.5395\n",
      "Epoch 85/100\n",
      "14/22 [==================>...........] - ETA: 0s - loss: 2.7000e-04 - accuracy: 1.0000"
     ]
    },
    {
     "name": "stderr",
     "output_type": "stream",
     "text": [
      "2023-08-10 21:48:44.680810: I tensorflow/core/grappler/optimizers/custom_graph_optimizer_registry.cc:114] Plugin optimizer for device_type CPU is enabled.\n",
      "2023-08-10 21:48:44.689639: I tensorflow/core/grappler/optimizers/custom_graph_optimizer_registry.cc:114] Plugin optimizer for device_type CPU is enabled.\n",
      "2023-08-10 21:48:44.703337: I tensorflow/core/grappler/optimizers/custom_graph_optimizer_registry.cc:114] Plugin optimizer for device_type CPU is enabled.\n"
     ]
    },
    {
     "name": "stdout",
     "output_type": "stream",
     "text": [
      "22/22 [==============================] - 0s 12ms/step - loss: 2.4991e-04 - accuracy: 1.0000 - val_loss: 3.6797 - val_accuracy: 0.5395\n",
      "Epoch 86/100\n",
      "15/22 [===================>..........] - ETA: 0s - loss: 2.0960e-04 - accuracy: 1.0000"
     ]
    },
    {
     "name": "stderr",
     "output_type": "stream",
     "text": [
      "2023-08-10 21:48:44.956780: I tensorflow/core/grappler/optimizers/custom_graph_optimizer_registry.cc:114] Plugin optimizer for device_type CPU is enabled.\n",
      "2023-08-10 21:48:44.965334: I tensorflow/core/grappler/optimizers/custom_graph_optimizer_registry.cc:114] Plugin optimizer for device_type CPU is enabled.\n",
      "2023-08-10 21:48:44.979119: I tensorflow/core/grappler/optimizers/custom_graph_optimizer_registry.cc:114] Plugin optimizer for device_type CPU is enabled.\n"
     ]
    },
    {
     "name": "stdout",
     "output_type": "stream",
     "text": [
      "22/22 [==============================] - 0s 12ms/step - loss: 2.4168e-04 - accuracy: 1.0000 - val_loss: 3.6953 - val_accuracy: 0.5395\n",
      "Epoch 87/100\n",
      "15/22 [===================>..........] - ETA: 0s - loss: 2.4445e-04 - accuracy: 1.0000"
     ]
    },
    {
     "name": "stderr",
     "output_type": "stream",
     "text": [
      "2023-08-10 21:48:45.233626: I tensorflow/core/grappler/optimizers/custom_graph_optimizer_registry.cc:114] Plugin optimizer for device_type CPU is enabled.\n",
      "2023-08-10 21:48:45.242133: I tensorflow/core/grappler/optimizers/custom_graph_optimizer_registry.cc:114] Plugin optimizer for device_type CPU is enabled.\n",
      "2023-08-10 21:48:45.255977: I tensorflow/core/grappler/optimizers/custom_graph_optimizer_registry.cc:114] Plugin optimizer for device_type CPU is enabled.\n"
     ]
    },
    {
     "name": "stdout",
     "output_type": "stream",
     "text": [
      "22/22 [==============================] - 0s 14ms/step - loss: 2.3697e-04 - accuracy: 1.0000 - val_loss: 3.6965 - val_accuracy: 0.5395\n",
      "Epoch 88/100\n",
      " 7/22 [========>.....................] - ETA: 0s - loss: 2.1818e-04 - accuracy: 1.0000"
     ]
    },
    {
     "name": "stderr",
     "output_type": "stream",
     "text": [
      "2023-08-10 21:48:45.502296: I tensorflow/core/grappler/optimizers/custom_graph_optimizer_registry.cc:114] Plugin optimizer for device_type CPU is enabled.\n",
      "2023-08-10 21:48:45.510577: I tensorflow/core/grappler/optimizers/custom_graph_optimizer_registry.cc:114] Plugin optimizer for device_type CPU is enabled.\n",
      "2023-08-10 21:48:45.524322: I tensorflow/core/grappler/optimizers/custom_graph_optimizer_registry.cc:114] Plugin optimizer for device_type CPU is enabled.\n"
     ]
    },
    {
     "name": "stdout",
     "output_type": "stream",
     "text": [
      "22/22 [==============================] - 0s 13ms/step - loss: 2.3177e-04 - accuracy: 1.0000 - val_loss: 3.7078 - val_accuracy: 0.5395\n",
      "Epoch 89/100\n",
      "13/22 [================>.............] - ETA: 0s - loss: 2.4117e-04 - accuracy: 1.0000"
     ]
    },
    {
     "name": "stderr",
     "output_type": "stream",
     "text": [
      "2023-08-10 21:48:45.828306: I tensorflow/core/grappler/optimizers/custom_graph_optimizer_registry.cc:114] Plugin optimizer for device_type CPU is enabled.\n",
      "2023-08-10 21:48:45.836633: I tensorflow/core/grappler/optimizers/custom_graph_optimizer_registry.cc:114] Plugin optimizer for device_type CPU is enabled.\n",
      "2023-08-10 21:48:45.849966: I tensorflow/core/grappler/optimizers/custom_graph_optimizer_registry.cc:114] Plugin optimizer for device_type CPU is enabled.\n"
     ]
    },
    {
     "name": "stdout",
     "output_type": "stream",
     "text": [
      "22/22 [==============================] - 0s 13ms/step - loss: 2.2215e-04 - accuracy: 1.0000 - val_loss: 3.7247 - val_accuracy: 0.5395\n",
      "Epoch 90/100\n",
      "15/22 [===================>..........] - ETA: 0s - loss: 2.2902e-04 - accuracy: 1.0000"
     ]
    },
    {
     "name": "stderr",
     "output_type": "stream",
     "text": [
      "2023-08-10 21:48:46.111013: I tensorflow/core/grappler/optimizers/custom_graph_optimizer_registry.cc:114] Plugin optimizer for device_type CPU is enabled.\n",
      "2023-08-10 21:48:46.119559: I tensorflow/core/grappler/optimizers/custom_graph_optimizer_registry.cc:114] Plugin optimizer for device_type CPU is enabled.\n",
      "2023-08-10 21:48:46.132937: I tensorflow/core/grappler/optimizers/custom_graph_optimizer_registry.cc:114] Plugin optimizer for device_type CPU is enabled.\n"
     ]
    },
    {
     "name": "stdout",
     "output_type": "stream",
     "text": [
      "22/22 [==============================] - 0s 13ms/step - loss: 2.1731e-04 - accuracy: 1.0000 - val_loss: 3.7252 - val_accuracy: 0.5395\n",
      "Epoch 91/100\n",
      " 2/22 [=>............................] - ETA: 1s - loss: 1.5105e-04 - accuracy: 1.0000"
     ]
    },
    {
     "name": "stderr",
     "output_type": "stream",
     "text": [
      "2023-08-10 21:48:46.402801: I tensorflow/core/grappler/optimizers/custom_graph_optimizer_registry.cc:114] Plugin optimizer for device_type CPU is enabled.\n",
      "2023-08-10 21:48:46.411262: I tensorflow/core/grappler/optimizers/custom_graph_optimizer_registry.cc:114] Plugin optimizer for device_type CPU is enabled.\n",
      "2023-08-10 21:48:46.424681: I tensorflow/core/grappler/optimizers/custom_graph_optimizer_registry.cc:114] Plugin optimizer for device_type CPU is enabled.\n"
     ]
    },
    {
     "name": "stdout",
     "output_type": "stream",
     "text": [
      "22/22 [==============================] - 1s 22ms/step - loss: 2.1225e-04 - accuracy: 1.0000 - val_loss: 3.7395 - val_accuracy: 0.5395\n",
      "Epoch 92/100\n",
      "14/22 [==================>...........] - ETA: 0s - loss: 2.1969e-04 - accuracy: 1.0000"
     ]
    },
    {
     "name": "stderr",
     "output_type": "stream",
     "text": [
      "2023-08-10 21:48:46.923554: I tensorflow/core/grappler/optimizers/custom_graph_optimizer_registry.cc:114] Plugin optimizer for device_type CPU is enabled.\n",
      "2023-08-10 21:48:46.931810: I tensorflow/core/grappler/optimizers/custom_graph_optimizer_registry.cc:114] Plugin optimizer for device_type CPU is enabled.\n",
      "2023-08-10 21:48:46.945133: I tensorflow/core/grappler/optimizers/custom_graph_optimizer_registry.cc:114] Plugin optimizer for device_type CPU is enabled.\n"
     ]
    },
    {
     "name": "stdout",
     "output_type": "stream",
     "text": [
      "22/22 [==============================] - 0s 20ms/step - loss: 2.0674e-04 - accuracy: 1.0000 - val_loss: 3.7392 - val_accuracy: 0.5395\n",
      "Epoch 93/100\n",
      "15/22 [===================>..........] - ETA: 0s - loss: 2.1024e-04 - accuracy: 1.0000"
     ]
    },
    {
     "name": "stderr",
     "output_type": "stream",
     "text": [
      "2023-08-10 21:48:47.348942: I tensorflow/core/grappler/optimizers/custom_graph_optimizer_registry.cc:114] Plugin optimizer for device_type CPU is enabled.\n",
      "2023-08-10 21:48:47.357000: I tensorflow/core/grappler/optimizers/custom_graph_optimizer_registry.cc:114] Plugin optimizer for device_type CPU is enabled.\n",
      "2023-08-10 21:48:47.370117: I tensorflow/core/grappler/optimizers/custom_graph_optimizer_registry.cc:114] Plugin optimizer for device_type CPU is enabled.\n"
     ]
    },
    {
     "name": "stdout",
     "output_type": "stream",
     "text": [
      "22/22 [==============================] - 0s 12ms/step - loss: 2.0077e-04 - accuracy: 1.0000 - val_loss: 3.7645 - val_accuracy: 0.5395\n",
      "Epoch 94/100\n",
      "14/22 [==================>...........] - ETA: 0s - loss: 1.8209e-04 - accuracy: 1.0000"
     ]
    },
    {
     "name": "stderr",
     "output_type": "stream",
     "text": [
      "2023-08-10 21:48:47.615681: I tensorflow/core/grappler/optimizers/custom_graph_optimizer_registry.cc:114] Plugin optimizer for device_type CPU is enabled.\n",
      "2023-08-10 21:48:47.624314: I tensorflow/core/grappler/optimizers/custom_graph_optimizer_registry.cc:114] Plugin optimizer for device_type CPU is enabled.\n",
      "2023-08-10 21:48:47.638108: I tensorflow/core/grappler/optimizers/custom_graph_optimizer_registry.cc:114] Plugin optimizer for device_type CPU is enabled.\n"
     ]
    },
    {
     "name": "stdout",
     "output_type": "stream",
     "text": [
      "22/22 [==============================] - 0s 13ms/step - loss: 1.9381e-04 - accuracy: 1.0000 - val_loss: 3.7679 - val_accuracy: 0.5395\n",
      "Epoch 95/100\n",
      "15/22 [===================>..........] - ETA: 0s - loss: 1.9164e-04 - accuracy: 1.0000"
     ]
    },
    {
     "name": "stderr",
     "output_type": "stream",
     "text": [
      "2023-08-10 21:48:47.898174: I tensorflow/core/grappler/optimizers/custom_graph_optimizer_registry.cc:114] Plugin optimizer for device_type CPU is enabled.\n",
      "2023-08-10 21:48:47.906612: I tensorflow/core/grappler/optimizers/custom_graph_optimizer_registry.cc:114] Plugin optimizer for device_type CPU is enabled.\n",
      "2023-08-10 21:48:47.920101: I tensorflow/core/grappler/optimizers/custom_graph_optimizer_registry.cc:114] Plugin optimizer for device_type CPU is enabled.\n"
     ]
    },
    {
     "name": "stdout",
     "output_type": "stream",
     "text": [
      "22/22 [==============================] - 0s 13ms/step - loss: 1.8966e-04 - accuracy: 1.0000 - val_loss: 3.7769 - val_accuracy: 0.5395\n",
      "Epoch 96/100\n",
      "13/22 [================>.............] - ETA: 0s - loss: 1.7406e-04 - accuracy: 1.0000"
     ]
    },
    {
     "name": "stderr",
     "output_type": "stream",
     "text": [
      "2023-08-10 21:48:48.197080: I tensorflow/core/grappler/optimizers/custom_graph_optimizer_registry.cc:114] Plugin optimizer for device_type CPU is enabled.\n",
      "2023-08-10 21:48:48.205326: I tensorflow/core/grappler/optimizers/custom_graph_optimizer_registry.cc:114] Plugin optimizer for device_type CPU is enabled.\n",
      "2023-08-10 21:48:48.218806: I tensorflow/core/grappler/optimizers/custom_graph_optimizer_registry.cc:114] Plugin optimizer for device_type CPU is enabled.\n"
     ]
    },
    {
     "name": "stdout",
     "output_type": "stream",
     "text": [
      "22/22 [==============================] - 0s 19ms/step - loss: 1.8887e-04 - accuracy: 1.0000 - val_loss: 3.7752 - val_accuracy: 0.5395\n",
      "Epoch 97/100\n",
      " 1/22 [>.............................] - ETA: 2s - loss: 1.7310e-04 - accuracy: 1.0000"
     ]
    },
    {
     "name": "stderr",
     "output_type": "stream",
     "text": [
      "2023-08-10 21:48:48.620696: I tensorflow/core/grappler/optimizers/custom_graph_optimizer_registry.cc:114] Plugin optimizer for device_type CPU is enabled.\n",
      "2023-08-10 21:48:48.629028: I tensorflow/core/grappler/optimizers/custom_graph_optimizer_registry.cc:114] Plugin optimizer for device_type CPU is enabled.\n",
      "2023-08-10 21:48:48.642509: I tensorflow/core/grappler/optimizers/custom_graph_optimizer_registry.cc:114] Plugin optimizer for device_type CPU is enabled.\n"
     ]
    },
    {
     "name": "stdout",
     "output_type": "stream",
     "text": [
      "22/22 [==============================] - 1s 20ms/step - loss: 1.8342e-04 - accuracy: 1.0000 - val_loss: 3.8062 - val_accuracy: 0.5395\n",
      "Epoch 98/100\n",
      " 8/22 [=========>....................] - ETA: 0s - loss: 1.3431e-04 - accuracy: 1.0000"
     ]
    },
    {
     "name": "stderr",
     "output_type": "stream",
     "text": [
      "2023-08-10 21:48:49.117009: I tensorflow/core/grappler/optimizers/custom_graph_optimizer_registry.cc:114] Plugin optimizer for device_type CPU is enabled.\n",
      "2023-08-10 21:48:49.125856: I tensorflow/core/grappler/optimizers/custom_graph_optimizer_registry.cc:114] Plugin optimizer for device_type CPU is enabled.\n",
      "2023-08-10 21:48:49.140520: I tensorflow/core/grappler/optimizers/custom_graph_optimizer_registry.cc:114] Plugin optimizer for device_type CPU is enabled.\n"
     ]
    },
    {
     "name": "stdout",
     "output_type": "stream",
     "text": [
      "22/22 [==============================] - 0s 15ms/step - loss: 1.7563e-04 - accuracy: 1.0000 - val_loss: 3.8087 - val_accuracy: 0.5395\n",
      "Epoch 99/100\n",
      "15/22 [===================>..........] - ETA: 0s - loss: 1.6877e-04 - accuracy: 1.0000"
     ]
    },
    {
     "name": "stderr",
     "output_type": "stream",
     "text": [
      "2023-08-10 21:48:49.448546: I tensorflow/core/grappler/optimizers/custom_graph_optimizer_registry.cc:114] Plugin optimizer for device_type CPU is enabled.\n",
      "2023-08-10 21:48:49.456950: I tensorflow/core/grappler/optimizers/custom_graph_optimizer_registry.cc:114] Plugin optimizer for device_type CPU is enabled.\n",
      "2023-08-10 21:48:49.470341: I tensorflow/core/grappler/optimizers/custom_graph_optimizer_registry.cc:114] Plugin optimizer for device_type CPU is enabled.\n"
     ]
    },
    {
     "name": "stdout",
     "output_type": "stream",
     "text": [
      "22/22 [==============================] - 0s 14ms/step - loss: 1.7203e-04 - accuracy: 1.0000 - val_loss: 3.8098 - val_accuracy: 0.5395\n",
      "Epoch 100/100\n",
      " 8/22 [=========>....................] - ETA: 0s - loss: 1.7342e-04 - accuracy: 1.0000"
     ]
    },
    {
     "name": "stderr",
     "output_type": "stream",
     "text": [
      "2023-08-10 21:48:49.749500: I tensorflow/core/grappler/optimizers/custom_graph_optimizer_registry.cc:114] Plugin optimizer for device_type CPU is enabled.\n",
      "2023-08-10 21:48:49.757785: I tensorflow/core/grappler/optimizers/custom_graph_optimizer_registry.cc:114] Plugin optimizer for device_type CPU is enabled.\n",
      "2023-08-10 21:48:49.771192: I tensorflow/core/grappler/optimizers/custom_graph_optimizer_registry.cc:114] Plugin optimizer for device_type CPU is enabled.\n"
     ]
    },
    {
     "name": "stdout",
     "output_type": "stream",
     "text": [
      "22/22 [==============================] - 1s 36ms/step - loss: 1.7207e-04 - accuracy: 1.0000 - val_loss: 3.8355 - val_accuracy: 0.5395\n",
      "3/3 - 0s - loss: 3.8355 - accuracy: 0.5395 - 67ms/epoch - 22ms/step\n"
     ]
    },
    {
     "name": "stderr",
     "output_type": "stream",
     "text": [
      "2023-08-10 21:48:50.535794: I tensorflow/core/grappler/optimizers/custom_graph_optimizer_registry.cc:114] Plugin optimizer for device_type CPU is enabled.\n",
      "2023-08-10 21:48:50.544067: I tensorflow/core/grappler/optimizers/custom_graph_optimizer_registry.cc:114] Plugin optimizer for device_type CPU is enabled.\n",
      "2023-08-10 21:48:50.557332: I tensorflow/core/grappler/optimizers/custom_graph_optimizer_registry.cc:114] Plugin optimizer for device_type CPU is enabled.\n",
      "2023-08-10 21:48:50.679831: I tensorflow/core/grappler/optimizers/custom_graph_optimizer_registry.cc:114] Plugin optimizer for device_type CPU is enabled.\n",
      "2023-08-10 21:48:50.688322: I tensorflow/core/grappler/optimizers/custom_graph_optimizer_registry.cc:114] Plugin optimizer for device_type CPU is enabled.\n",
      "2023-08-10 21:48:50.702440: I tensorflow/core/grappler/optimizers/custom_graph_optimizer_registry.cc:114] Plugin optimizer for device_type CPU is enabled.\n"
     ]
    },
    {
     "name": "stdout",
     "output_type": "stream",
     "text": [
      "0.5394737124443054\n"
     ]
    },
    {
     "data": {
      "image/png": "[encoded data removed]",
      "text/plain": [
       "<Figure size 640x480 with 1 Axes>"
      ]
     },
     "metadata": {},
     "output_type": "display_data"
    }
   ],
   "source": [
    "import numpy as np\n",
    "import tensorflow as tf\n",
    "\n",
    "from tensorflow.keras import layers, models\n",
    "import matplotlib.pyplot as plt \n",
    "\n",
    "food=np.load(\"food.npy\")\n",
    "labels=np.load(\"lables.npy\")\n",
    "\n",
    "s=np.arange(food.shape[0])\n",
    "np.random.shuffle(s)\n",
    "food=food[s]\n",
    "labels=labels[s]\n",
    "\n",
    "num_classes=len(np.unique(labels))\n",
    "data_length=len(food)\n",
    "\n",
    "\n",
    "(x_train,x_test)=food[(int)(0.1*data_length):],food[:(int)(0.1*data_length)]\n",
    "x_train = x_train.astype('float32')/255\n",
    "x_test = x_test.astype('float32')/255\n",
    "train_length=len(x_train)\n",
    "test_length=len(x_test)\n",
    "\n",
    "(y_train,y_test)=labels[(int)(0.1*data_length):],labels[:(int)(0.1*data_length)]\n",
    "\n",
    "\n",
    "model = models.Sequential()\n",
    "model.add(layers.Conv2D(32, (3, 3), activation='relu', input_shape=(50, 50, 3)))\n",
    "model.add(layers.MaxPooling2D((2, 2)))\n",
    "model.add(layers.Conv2D(64, (3, 3), activation='relu'))\n",
    "model.add(layers.MaxPooling2D((2, 2)))\n",
    "model.add(layers.Conv2D(64, (3, 3), activation='relu'))\n",
    "\n",
    "model.summary()\n",
    "\n",
    "model.add(layers.Flatten())\n",
    "model.add(layers.Dense(64, activation='relu'))\n",
    "model.add(layers.Dense(10))\n",
    "\n",
    "model.summary()\n",
    "\n",
    "model.compile(optimizer='adam',\n",
    "              loss=tf.keras.losses.SparseCategoricalCrossentropy(from_logits=True),\n",
    "              metrics=['accuracy'])\n",
    "\n",
    "history = model.fit(x_train, y_train, epochs=100, \n",
    "                    validation_data=(x_test, y_test))\n",
    "\n",
    "plt.plot(history.history['accuracy'], label='accuracy')\n",
    "plt.plot(history.history['val_accuracy'], label = 'val_accuracy')\n",
    "plt.xlabel('Epoch')\n",
    "plt.ylabel('Accuracy')\n",
    "plt.ylim([0.5, 1])\n",
    "plt.legend(loc='lower right')\n",
    "\n",
    "test_loss, test_acc = model.evaluate(x_test,  y_test, verbose=2)\n",
    "\n",
    "print(test_acc)\n",
    "model.save(\"model.h5\")\n",
    "\n"
   ]
  },
  {
   "cell_type": "code",
   "execution_count": 1,
   "id": "17052e10-570f-401d-aca1-5dd3856987ad",
   "metadata": {},
   "outputs": [
    {
     "data": {
      "image/png": "[encoded data removed]",
      "text/plain": [
       "<Figure size 640x480 with 1 Axes>"
      ]
     },
     "metadata": {},
     "output_type": "display_data"
    }
   ],
   "source": [
    "import os\n",
    "import cv2\n",
    "from PIL import Image\n",
    "import numpy as np\n",
    "import matplotlib.pyplot as plt\n",
    "\n",
    "image_path = os.path.join(os.getcwd(), 'b.png')  # Adjust the path accordingly\n",
    "imag = cv2.imread(image_path)\n",
    "img_from_ar = Image.fromarray(cv2.cvtColor(imag, cv2.COLOR_BGR2RGB))\n",
    "resized_image = img_from_ar.resize((50, 50))\n",
    "\n",
    "plt.subplot(1, 2, 2)\n",
    "plt.imshow(resized_image)\n",
    "plt.title(\"Resized Image\")\n",
    "\n",
    "plt.show()"
   ]
  },
  {
   "cell_type": "code",
   "execution_count": 2,
   "id": "6fb51d54-7c5b-4859-8ae7-4b3793075064",
   "metadata": {},
   "outputs": [
    {
     "data": {
      "image/png": "[encoded data removed]",
      "text/plain": [
       "<Figure size 640x480 with 1 Axes>"
      ]
     },
     "metadata": {},
     "output_type": "display_data"
    }
   ],
   "source": [
    "import os\n",
    "import cv2\n",
    "from PIL import Image\n",
    "import numpy as np\n",
    "import matplotlib.pyplot as plt\n",
    "\n",
    "image_path = os.path.join(os.getcwd(), 'a.png')  # Adjust the path accordingly\n",
    "imag = cv2.imread(image_path)\n",
    "img_from_ar = Image.fromarray(cv2.cvtColor(imag, cv2.COLOR_BGR2RGB))\n",
    "resized_image2 = img_from_ar.resize((50, 50))\n",
    "\n",
    "plt.subplot(1, 2, 2)\n",
    "plt.imshow(resized_image2)\n",
    "plt.title(\"Resized Image\")\n",
    "\n",
    "plt.show()"
   ]
  },
  {
   "cell_type": "code",
   "execution_count": 4,
   "id": "13aa1189-b1ee-4783-95a8-bf2497d49b90",
   "metadata": {},
   "outputs": [
    {
     "data": {
      "image/png": "[encoded data removed]",
      "text/plain": [
       "<Figure size 640x480 with 1 Axes>"
      ]
     },
     "metadata": {},
     "output_type": "display_data"
    }
   ],
   "source": [
    "image_path = os.path.join(os.getcwd(), 'p.png')  # Adjust the path accordingly\n",
    "imag = cv2.imread(image_path)\n",
    "img_from_ar = Image.fromarray(cv2.cvtColor(imag, cv2.COLOR_BGR2RGB))\n",
    "resized_image3 = img_from_ar.resize((50, 50))\n",
    "\n",
    "plt.subplot(1, 2, 2)\n",
    "plt.imshow(resized_image3)\n",
    "plt.title(\"Resized Image\")\n",
    "\n",
    "plt.show()"
   ]
  },
  {
   "cell_type": "code",
   "execution_count": 1,
   "id": "988995cb-13ec-48f1-81ca-019fc82ba2ac",
   "metadata": {},
   "outputs": [
    {
     "name": "stderr",
     "output_type": "stream",
     "text": [
      "2023-08-10 21:53:23.903275: I tensorflow/core/util/port.cc:110] oneDNN custom operations are on. You may see slightly different numerical results due to floating-point round-off errors from different computation orders. To turn them off, set the environment variable `TF_ENABLE_ONEDNN_OPTS=0`.\n",
      "2023-08-10 21:53:23.905055: I tensorflow/tsl/cuda/cudart_stub.cc:28] Could not find cuda drivers on your machine, GPU will not be used.\n",
      "2023-08-10 21:53:23.936170: I tensorflow/tsl/cuda/cudart_stub.cc:28] Could not find cuda drivers on your machine, GPU will not be used.\n",
      "2023-08-10 21:53:23.936906: I tensorflow/core/platform/cpu_feature_guard.cc:182] This TensorFlow binary is optimized to use available CPU instructions in performance-critical operations.\n",
      "To enable the following instructions: AVX2 AVX512F AVX512_VNNI AVX512_BF16 AVX_VNNI AMX_TILE AMX_INT8 AMX_BF16 FMA, in other operations, rebuild TensorFlow with the appropriate compiler flags.\n",
      "2023-08-10 21:53:26.335612: W tensorflow/compiler/tf2tensorrt/utils/py_utils.cc:38] TF-TRT Warning: Could not find TensorRT\n",
      "2023-08-10 21:53:28.787917: E itex/core/kernels/xpu_kernel.cc:38] XPU-GPU kernel not supported.\n",
      "If you need help, create an issue at https://github.com/intel/intel-extension-for-tensorflow/issues\n",
      "2023-08-10 21:53:30.797647: I tensorflow/core/grappler/optimizers/custom_graph_optimizer_registry.cc:114] Plugin optimizer for device_type CPU is enabled.\n",
      "2023-08-10 21:53:30.804455: I tensorflow/core/grappler/optimizers/custom_graph_optimizer_registry.cc:114] Plugin optimizer for device_type CPU is enabled.\n",
      "2023-08-10 21:53:30.815513: I tensorflow/core/grappler/optimizers/custom_graph_optimizer_registry.cc:114] Plugin optimizer for device_type CPU is enabled.\n",
      "2023-08-10 21:53:30.851386: I tensorflow/core/grappler/optimizers/custom_graph_optimizer_registry.cc:114] Plugin optimizer for device_type CPU is enabled.\n"
     ]
    },
    {
     "name": "stdout",
     "output_type": "stream",
     "text": [
      "1/1 [==============================] - 0s 220ms/step\n",
      "[[ -2447.327    6116.693  -14672.653   -7372.7563  -5187.5737  -1776.3368\n",
      "    3038.7969   4597.3486  -5456.142    1876.237 ]]\n",
      "Result is: -2447.327\n",
      "Predicted Class: 1\n"
     ]
    }
   ],
   "source": [
    "import os\n",
    "from PIL import Image\n",
    "import numpy as np\n",
    "import tensorflow as tf\n",
    "\n",
    "# Read the image using PIL\n",
    "image_path = os.path.join(os.getcwd(), 'b.png')  \n",
    "image = Image.open(image_path)\n",
    "\n",
    "# Resize the image\n",
    "resized_image = image.resize((50, 50))\n",
    "\n",
    "# Convert to NumPy array\n",
    "img_array = np.array(resized_image)\n",
    "\n",
    "# Preprocess the image for the model\n",
    "test_image = np.expand_dims(img_array, axis=0)\n",
    "\n",
    "# Load the model\n",
    "model = tf.keras.models.load_model(os.getcwd() + '/model.h5')\n",
    "\n",
    "# Make predictions\n",
    "result = model.predict(test_image)\n",
    "predicted_class = np.argmax(result)\n",
    "\n",
    "print(result)\n",
    "print(\"Result is:\", result[0][0])\n",
    "print(\"Predicted Class:\", predicted_class)\n",
    "\n"
   ]
  },
  {
   "cell_type": "code",
   "execution_count": 2,
   "id": "9397a172-40f9-45a5-90cb-0c3b0e19c444",
   "metadata": {},
   "outputs": [
    {
     "name": "stdout",
     "output_type": "stream",
     "text": [
      "1/1 [==============================] - 0s 116ms/step\n",
      "[[ 2427.4504 -1335.2012 -5977.1494 -5631.6685  -362.9916 -1852.6174\n",
      "   1736.4805  1949.0677 -3295.3726  1969.1138]]\n",
      "Result is: 2427.4504\n",
      "Predicted Class: 0\n"
     ]
    },
    {
     "name": "stderr",
     "output_type": "stream",
     "text": [
      "2023-08-10 21:54:39.489112: I tensorflow/core/grappler/optimizers/custom_graph_optimizer_registry.cc:114] Plugin optimizer for device_type CPU is enabled.\n",
      "2023-08-10 21:54:39.495776: I tensorflow/core/grappler/optimizers/custom_graph_optimizer_registry.cc:114] Plugin optimizer for device_type CPU is enabled.\n",
      "2023-08-10 21:54:39.504682: I tensorflow/core/grappler/optimizers/custom_graph_optimizer_registry.cc:114] Plugin optimizer for device_type CPU is enabled.\n",
      "2023-08-10 21:54:39.530864: I tensorflow/core/grappler/optimizers/custom_graph_optimizer_registry.cc:114] Plugin optimizer for device_type CPU is enabled.\n"
     ]
    }
   ],
   "source": [
    "import os\n",
    "from PIL import Image\n",
    "import numpy as np\n",
    "import tensorflow as tf\n",
    "\n",
    "# Read the image using PIL\n",
    "image_path = os.path.join(os.getcwd(), 'a.png')  \n",
    "image = Image.open(image_path)\n",
    "\n",
    "# Resize the image\n",
    "resized_image = image.resize((50, 50))\n",
    "\n",
    "# Convert to NumPy array\n",
    "img_array = np.array(resized_image)\n",
    "\n",
    "# Preprocess the image for the model\n",
    "test_image = np.expand_dims(img_array, axis=0)\n",
    "\n",
    "# Load the model\n",
    "model = tf.keras.models.load_model(os.getcwd() + '/model.h5')\n",
    "\n",
    "# Make predictions\n",
    "result = model.predict(test_image)\n",
    "predicted_class = np.argmax(result)\n",
    "\n",
    "print(result)\n",
    "print(\"Result is:\", result[0][0])\n",
    "print(\"Predicted Class:\", predicted_class)\n",
    "\n"
   ]
  },
  {
   "cell_type": "code",
   "execution_count": 3,
   "id": "2ba33f23-798e-4742-84f4-8a0e9aba9b2d",
   "metadata": {},
   "outputs": [
    {
     "name": "stdout",
     "output_type": "stream",
     "text": [
      "1/1 [==============================] - 0s 115ms/step\n",
      "[[  1283.3075      454.59222  -10964.89     -10777.334      2976.2947\n",
      "    -543.5847       31.673628   5327.17      -6864.368      7830.1084  ]]\n",
      "Result is: 1283.3075\n",
      "Predicted Class: 9\n"
     ]
    },
    {
     "name": "stderr",
     "output_type": "stream",
     "text": [
      "2023-08-10 21:54:53.817670: I tensorflow/core/grappler/optimizers/custom_graph_optimizer_registry.cc:114] Plugin optimizer for device_type CPU is enabled.\n",
      "2023-08-10 21:54:53.824402: I tensorflow/core/grappler/optimizers/custom_graph_optimizer_registry.cc:114] Plugin optimizer for device_type CPU is enabled.\n",
      "2023-08-10 21:54:53.833206: I tensorflow/core/grappler/optimizers/custom_graph_optimizer_registry.cc:114] Plugin optimizer for device_type CPU is enabled.\n",
      "2023-08-10 21:54:53.856993: I tensorflow/core/grappler/optimizers/custom_graph_optimizer_registry.cc:114] Plugin optimizer for device_type CPU is enabled.\n"
     ]
    }
   ],
   "source": [
    "import os\n",
    "from PIL import Image\n",
    "import numpy as np\n",
    "import tensorflow as tf\n",
    "\n",
    "# Read the image using PIL\n",
    "image_path = os.path.join(os.getcwd(), 'p.png')  \n",
    "image = Image.open(image_path)\n",
    "\n",
    "# Resize the image\n",
    "resized_image = image.resize((50, 50))\n",
    "\n",
    "# Convert to NumPy array\n",
    "img_array = np.array(resized_image)\n",
    "\n",
    "# Preprocess the image for the model\n",
    "test_image = np.expand_dims(img_array, axis=0)\n",
    "\n",
    "# Load the model\n",
    "model = tf.keras.models.load_model(os.getcwd() + '/model.h5')\n",
    "\n",
    "# Make predictions\n",
    "result = model.predict(test_image)\n",
    "predicted_class = np.argmax(result)\n",
    "\n",
    "print(result)\n",
    "print(\"Result is:\", result[0][0])\n",
    "print(\"Predicted Class:\", predicted_class)\n",
    "\n"
   ]
  },
  {
   "cell_type": "code",
   "execution_count": 4,
   "id": "b8933a2c-f323-4c9c-8e68-0d22a4dc1a3f",
   "metadata": {},
   "outputs": [
    {
     "name": "stdout",
     "output_type": "stream",
     "text": [
      "1/1 [==============================] - 0s 100ms/step\n",
      "[[-3465.0579    988.1573   5718.092     877.87915  2386.4854   8663.481\n",
      "  -8203.085   -2144.1704   4400.9976   1609.1614 ]]\n",
      "Result is: -3465.0579\n",
      "Predicted Class: 5\n"
     ]
    },
    {
     "name": "stderr",
     "output_type": "stream",
     "text": [
      "2023-08-10 21:59:39.902808: I tensorflow/core/grappler/optimizers/custom_graph_optimizer_registry.cc:114] Plugin optimizer for device_type CPU is enabled.\n",
      "2023-08-10 21:59:39.909931: I tensorflow/core/grappler/optimizers/custom_graph_optimizer_registry.cc:114] Plugin optimizer for device_type CPU is enabled.\n",
      "2023-08-10 21:59:39.918772: I tensorflow/core/grappler/optimizers/custom_graph_optimizer_registry.cc:114] Plugin optimizer for device_type CPU is enabled.\n",
      "2023-08-10 21:59:39.945356: I tensorflow/core/grappler/optimizers/custom_graph_optimizer_registry.cc:114] Plugin optimizer for device_type CPU is enabled.\n"
     ]
    }
   ],
   "source": [
    "import os\n",
    "from PIL import Image\n",
    "import numpy as np\n",
    "import tensorflow as tf\n",
    "\n",
    "# Read the image using PIL\n",
    "image_path = os.path.join(os.getcwd(), 'g.png')  \n",
    "image = Image.open(image_path)\n",
    "\n",
    "# Resize the image\n",
    "resized_image = image.resize((50, 50))\n",
    "\n",
    "# Convert to NumPy array\n",
    "img_array = np.array(resized_image)\n",
    "\n",
    "# Preprocess the image for the model\n",
    "test_image = np.expand_dims(img_array, axis=0)\n",
    "\n",
    "# Load the model\n",
    "model = tf.keras.models.load_model(os.getcwd() + '/model.h5')\n",
    "\n",
    "# Make predictions\n",
    "result = model.predict(test_image)\n",
    "predicted_class = np.argmax(result)\n",
    "\n",
    "print(result)\n",
    "print(\"Result is:\", result[0][0])\n",
    "print(\"Predicted Class:\", predicted_class)\n",
    "\n"
   ]
  },
  {
   "cell_type": "code",
   "execution_count": 5,
   "id": "fc526c91-b7d4-49b7-89f3-0b611d545a64",
   "metadata": {},
   "outputs": [
    {
     "name": "stdout",
     "output_type": "stream",
     "text": [
      "WARNING:tensorflow:5 out of the last 5 calls to <function Model.make_predict_function.<locals>.predict_function at 0x14609c116290> triggered tf.function retracing. Tracing is expensive and the excessive number of tracings could be due to (1) creating @tf.function repeatedly in a loop, (2) passing tensors with different shapes, (3) passing Python objects instead of tensors. For (1), please define your @tf.function outside of the loop. For (2), @tf.function has reduce_retracing=True option that can avoid unnecessary retracing. For (3), please refer to https://www.tensorflow.org/guide/function#controlling_retracing and https://www.tensorflow.org/api_docs/python/tf/function for  more details.\n",
      "1/1 [==============================] - 0s 100ms/step\n",
      "[[ 1072.0292   655.7845 -8998.893   3296.3032 -9193.249   1291.7805\n",
      "   1588.8864  2900.5024 -1346.1937 -4041.2278]]\n",
      "Result is: 1072.0292\n",
      "Predicted Class: 3\n"
     ]
    },
    {
     "name": "stderr",
     "output_type": "stream",
     "text": [
      "2023-08-10 21:59:50.513499: I tensorflow/core/grappler/optimizers/custom_graph_optimizer_registry.cc:114] Plugin optimizer for device_type CPU is enabled.\n",
      "2023-08-10 21:59:50.519961: I tensorflow/core/grappler/optimizers/custom_graph_optimizer_registry.cc:114] Plugin optimizer for device_type CPU is enabled.\n",
      "2023-08-10 21:59:50.528858: I tensorflow/core/grappler/optimizers/custom_graph_optimizer_registry.cc:114] Plugin optimizer for device_type CPU is enabled.\n",
      "2023-08-10 21:59:50.549474: I tensorflow/core/grappler/optimizers/custom_graph_optimizer_registry.cc:114] Plugin optimizer for device_type CPU is enabled.\n"
     ]
    }
   ],
   "source": [
    "import os\n",
    "from PIL import Image\n",
    "import numpy as np\n",
    "import tensorflow as tf\n",
    "\n",
    "# Read the image using PIL\n",
    "image_path = os.path.join(os.getcwd(), 'c.png')  \n",
    "image = Image.open(image_path)\n",
    "\n",
    "# Resize the image\n",
    "resized_image = image.resize((50, 50))\n",
    "\n",
    "# Convert to NumPy array\n",
    "img_array = np.array(resized_image)\n",
    "\n",
    "# Preprocess the image for the model\n",
    "test_image = np.expand_dims(img_array, axis=0)\n",
    "\n",
    "# Load the model\n",
    "model = tf.keras.models.load_model(os.getcwd() + '/model.h5')\n",
    "\n",
    "# Make predictions\n",
    "result = model.predict(test_image)\n",
    "predicted_class = np.argmax(result)\n",
    "\n",
    "print(result)\n",
    "print(\"Result is:\", result[0][0])\n",
    "print(\"Predicted Class:\", predicted_class)\n",
    "\n"
   ]
  },
  {
   "cell_type": "code",
   "execution_count": 18,
   "id": "e93b4dc2-46df-41c2-96d1-1b2575694a24",
   "metadata": {},
   "outputs": [
    {
     "data": {
      "image/png": "[encoded data removed]",
      "text/plain": [
       "<Figure size 640x480 with 1 Axes>"
      ]
     },
     "metadata": {},
     "output_type": "display_data"
    },
    {
     "name": "stdout",
     "output_type": "stream",
     "text": [
      "1/1 [==============================] - 0s 75ms/step\n",
      "[[ 2427.4504 -1335.2012 -5977.1494 -5631.6685  -362.9916 -1852.6174\n",
      "   1736.4805  1949.0677 -3295.3726  1969.1138]]\n",
      "Result is: 2427.4504\n",
      "Predicted Class: Apple\n"
     ]
    },
    {
     "name": "stderr",
     "output_type": "stream",
     "text": [
      "2023-08-10 23:03:35.409424: I tensorflow/core/grappler/optimizers/custom_graph_optimizer_registry.cc:114] Plugin optimizer for device_type CPU is enabled.\n",
      "2023-08-10 23:03:35.416000: I tensorflow/core/grappler/optimizers/custom_graph_optimizer_registry.cc:114] Plugin optimizer for device_type CPU is enabled.\n",
      "2023-08-10 23:03:35.424753: I tensorflow/core/grappler/optimizers/custom_graph_optimizer_registry.cc:114] Plugin optimizer for device_type CPU is enabled.\n",
      "2023-08-10 23:03:35.445464: I tensorflow/core/grappler/optimizers/custom_graph_optimizer_registry.cc:114] Plugin optimizer for device_type CPU is enabled.\n"
     ]
    }
   ],
   "source": [
    "import os\n",
    "from PIL import Image\n",
    "import numpy as np\n",
    "import tensorflow as tf\n",
    "import matplotlib.pyplot as plt\n",
    "\n",
    "# Read the image using PIL\n",
    "#image_path = os.path.join(os.getcwd(), 'c.png')  \n",
    "image_path = os.path.join(os.getcwd(), 'a.png')\n",
    "image = Image.open(image_path)\n",
    "\n",
    "# Resize the image\n",
    "resized_image = image.resize((50, 50))\n",
    "plt.subplot(1, 2, 2)\n",
    "plt.imshow(resized_image)\n",
    "plt.title(\"Resized Image\")\n",
    "\n",
    "plt.show()\n",
    "\n",
    "# Convert to NumPy array\n",
    "img_array = np.array(resized_image)\n",
    "\n",
    "# Preprocess the image for the model\n",
    "test_image = np.expand_dims(img_array, axis=0)\n",
    "\n",
    "# Load the model\n",
    "model = tf.keras.models.load_model(os.getcwd() + '/model.h5')\n",
    "\n",
    "# Make predictions\n",
    "result = model.predict(test_image)\n",
    "predicted_class = np.argmax(result)\n",
    "\n",
    "print(result)\n",
    "print(\"Result is:\", result[0][0])\n",
    "\n",
    "labels = [\"Apple\", \"Banana\", \"Beetroot\", \"Cabbage\", \"Carrot\", \"Grapes\", \"Guva\", \"Mango\", \"Lady's Finger\",\n",
    "                  \"Pumpkin\"]\n",
    "prediction = labels[predicted_class]\n",
    "print(\"Predicted Class:\", prediction)\n"
   ]
  }
 ],
 "metadata": {
  "kernelspec": {
   "display_name": "Python 3 (ipykernel)",
   "language": "python",
   "name": "python3"
  },
  "language_info": {
   "codemirror_mode": {
    "name": "ipython",
    "version": 3
   },
   "file_extension": ".py",
   "mimetype": "text/x-python",
   "name": "python",
   "nbconvert_exporter": "python",
   "pygments_lexer": "ipython3",
   "version": "3.10.11"
  }
 },
 "nbformat": 4,
 "nbformat_minor": 5
}
